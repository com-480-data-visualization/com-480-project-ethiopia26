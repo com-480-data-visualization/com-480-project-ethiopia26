{
 "cells": [
  {
   "cell_type": "code",
   "execution_count": 14,
   "metadata": {},
   "outputs": [
    {
     "name": "stdout",
     "output_type": "stream",
     "text": [
      "The autoreload extension is already loaded. To reload it, use:\n",
      "  %reload_ext autoreload\n"
     ]
    }
   ],
   "source": [
    "%load_ext autoreload\n",
    "%autoreload 2"
   ]
  },
  {
   "cell_type": "code",
   "execution_count": 15,
   "metadata": {},
   "outputs": [],
   "source": [
    "import sys\n",
    "sys.path.insert(1,\"./models/PyTorch_CIFAR10\")\n",
    "sys.path.insert(1,\"./src\")\n",
    "#libraries\n",
    "sys.path.insert(1, './lib/pytorch_cnn_visualizations/src/')"
   ]
  },
  {
   "cell_type": "code",
   "execution_count": 16,
   "metadata": {},
   "outputs": [],
   "source": [
    "from cifar10_models import vgg\n",
    "import torchvision.models as models\n",
    "from torchvision import transforms\n",
    "from Torchlurk import Lurk\n"
   ]
  },
  {
   "cell_type": "code",
   "execution_count": 17,
   "metadata": {},
   "outputs": [],
   "source": [
    "import torchvision\n",
    "from misc_funcs import clean_bw_imgs,sample_imagefolder,plot_hist,crop_imgs,rename_directories\n",
    "import jdc\n"
   ]
  },
  {
   "cell_type": "markdown",
   "metadata": {},
   "source": [
    "# ImageNet"
   ]
  },
  {
   "cell_type": "markdown",
   "metadata": {},
   "source": [
    "At that stage, Download the tinyimagenet dataset on [this link](https://www.kaggle.com/ifigotin/imagenetmini-1000#n01440764_10470.JPEG) and place it in the directory data (s.t the path looks like `data/tinyimagenet/rest_of_path`"
   ]
  },
  {
   "cell_type": "markdown",
   "metadata": {},
   "source": [
    "First we center-crop the images to the desired shape"
   ]
  },
  {
   "cell_type": "code",
   "execution_count": 7,
   "metadata": {
    "collapsed": true,
    "jupyter": {
     "outputs_hidden": true
    }
   },
   "outputs": [
    {
     "name": "stdout",
     "output_type": "stream",
     "text": [
      "Progression:2.70%\n"
     ]
    },
    {
     "ename": "KeyboardInterrupt",
     "evalue": "",
     "output_type": "error",
     "traceback": [
      "\u001b[0;31m---------------------------------------------------------------------------\u001b[0m",
      "\u001b[0;31mKeyboardInterrupt\u001b[0m                         Traceback (most recent call last)",
      "\u001b[0;32m<ipython-input-7-256e6f7007f8>\u001b[0m in \u001b[0;36m<module>\u001b[0;34m\u001b[0m\n\u001b[0;32m----> 1\u001b[0;31m \u001b[0mcrop_imgs\u001b[0m\u001b[0;34m(\u001b[0m\u001b[0;34m\"../bigdata/imagenet-mini/train/\"\u001b[0m\u001b[0;34m)\u001b[0m\u001b[0;34m\u001b[0m\u001b[0;34m\u001b[0m\u001b[0m\n\u001b[0m",
      "\u001b[0;32m~/Documents/Cours/DataVis/com-480-project-ethiopia26/src/misc_funcs.py\u001b[0m in \u001b[0;36mcrop_imgs\u001b[0;34m(path_to_imgs_dirs)\u001b[0m\n\u001b[1;32m     46\u001b[0m                 \u001b[0mpath\u001b[0m \u001b[0;34m=\u001b[0m \u001b[0mos\u001b[0m\u001b[0;34m.\u001b[0m\u001b[0mpath\u001b[0m\u001b[0;34m.\u001b[0m\u001b[0mjoin\u001b[0m\u001b[0;34m(\u001b[0m\u001b[0mroot\u001b[0m\u001b[0;34m,\u001b[0m \u001b[0mname\u001b[0m\u001b[0;34m)\u001b[0m\u001b[0;34m\u001b[0m\u001b[0;34m\u001b[0m\u001b[0m\n\u001b[1;32m     47\u001b[0m                 \u001b[0mimage\u001b[0m \u001b[0;34m=\u001b[0m \u001b[0mImage\u001b[0m\u001b[0;34m.\u001b[0m\u001b[0mopen\u001b[0m\u001b[0;34m(\u001b[0m\u001b[0mpath\u001b[0m\u001b[0;34m)\u001b[0m\u001b[0;34m\u001b[0m\u001b[0;34m\u001b[0m\u001b[0m\n\u001b[0;32m---> 48\u001b[0;31m                 \u001b[0mimage\u001b[0m \u001b[0;34m=\u001b[0m \u001b[0mtransforms\u001b[0m\u001b[0;34m.\u001b[0m\u001b[0mCenterCrop\u001b[0m\u001b[0;34m(\u001b[0m\u001b[0;36m224\u001b[0m\u001b[0;34m)\u001b[0m\u001b[0;34m(\u001b[0m\u001b[0mimage\u001b[0m\u001b[0;34m)\u001b[0m\u001b[0;34m\u001b[0m\u001b[0;34m\u001b[0m\u001b[0m\n\u001b[0m\u001b[1;32m     49\u001b[0m                 \u001b[0mimage\u001b[0m\u001b[0;34m.\u001b[0m\u001b[0msave\u001b[0m\u001b[0;34m(\u001b[0m\u001b[0mpath\u001b[0m\u001b[0;34m)\u001b[0m\u001b[0;34m\u001b[0m\u001b[0;34m\u001b[0m\u001b[0m\n\u001b[1;32m     50\u001b[0m     \u001b[0mprint\u001b[0m\u001b[0;34m(\u001b[0m\u001b[0;34m\"Cropped terminated successfully!\"\u001b[0m\u001b[0;34m)\u001b[0m\u001b[0;34m\u001b[0m\u001b[0;34m\u001b[0m\u001b[0m\n",
      "\u001b[0;32m~/anaconda3/envs/ML/lib/python3.7/site-packages/torchvision/transforms/transforms.py\u001b[0m in \u001b[0;36m__call__\u001b[0;34m(self, img)\u001b[0m\n\u001b[1;32m    236\u001b[0m             \u001b[0mPIL\u001b[0m \u001b[0mImage\u001b[0m\u001b[0;34m:\u001b[0m \u001b[0mCropped\u001b[0m \u001b[0mimage\u001b[0m\u001b[0;34m.\u001b[0m\u001b[0;34m\u001b[0m\u001b[0;34m\u001b[0m\u001b[0m\n\u001b[1;32m    237\u001b[0m         \"\"\"\n\u001b[0;32m--> 238\u001b[0;31m         \u001b[0;32mreturn\u001b[0m \u001b[0mF\u001b[0m\u001b[0;34m.\u001b[0m\u001b[0mcenter_crop\u001b[0m\u001b[0;34m(\u001b[0m\u001b[0mimg\u001b[0m\u001b[0;34m,\u001b[0m \u001b[0mself\u001b[0m\u001b[0;34m.\u001b[0m\u001b[0msize\u001b[0m\u001b[0;34m)\u001b[0m\u001b[0;34m\u001b[0m\u001b[0;34m\u001b[0m\u001b[0m\n\u001b[0m\u001b[1;32m    239\u001b[0m \u001b[0;34m\u001b[0m\u001b[0m\n\u001b[1;32m    240\u001b[0m     \u001b[0;32mdef\u001b[0m \u001b[0m__repr__\u001b[0m\u001b[0;34m(\u001b[0m\u001b[0mself\u001b[0m\u001b[0;34m)\u001b[0m\u001b[0;34m:\u001b[0m\u001b[0;34m\u001b[0m\u001b[0;34m\u001b[0m\u001b[0m\n",
      "\u001b[0;32m~/anaconda3/envs/ML/lib/python3.7/site-packages/torchvision/transforms/functional.py\u001b[0m in \u001b[0;36mcenter_crop\u001b[0;34m(img, output_size)\u001b[0m\n\u001b[1;32m    376\u001b[0m     \u001b[0mcrop_top\u001b[0m \u001b[0;34m=\u001b[0m \u001b[0mint\u001b[0m\u001b[0;34m(\u001b[0m\u001b[0mround\u001b[0m\u001b[0;34m(\u001b[0m\u001b[0;34m(\u001b[0m\u001b[0mimage_height\u001b[0m \u001b[0;34m-\u001b[0m \u001b[0mcrop_height\u001b[0m\u001b[0;34m)\u001b[0m \u001b[0;34m/\u001b[0m \u001b[0;36m2.\u001b[0m\u001b[0;34m)\u001b[0m\u001b[0;34m)\u001b[0m\u001b[0;34m\u001b[0m\u001b[0;34m\u001b[0m\u001b[0m\n\u001b[1;32m    377\u001b[0m     \u001b[0mcrop_left\u001b[0m \u001b[0;34m=\u001b[0m \u001b[0mint\u001b[0m\u001b[0;34m(\u001b[0m\u001b[0mround\u001b[0m\u001b[0;34m(\u001b[0m\u001b[0;34m(\u001b[0m\u001b[0mimage_width\u001b[0m \u001b[0;34m-\u001b[0m \u001b[0mcrop_width\u001b[0m\u001b[0;34m)\u001b[0m \u001b[0;34m/\u001b[0m \u001b[0;36m2.\u001b[0m\u001b[0;34m)\u001b[0m\u001b[0;34m)\u001b[0m\u001b[0;34m\u001b[0m\u001b[0;34m\u001b[0m\u001b[0m\n\u001b[0;32m--> 378\u001b[0;31m     \u001b[0;32mreturn\u001b[0m \u001b[0mcrop\u001b[0m\u001b[0;34m(\u001b[0m\u001b[0mimg\u001b[0m\u001b[0;34m,\u001b[0m \u001b[0mcrop_top\u001b[0m\u001b[0;34m,\u001b[0m \u001b[0mcrop_left\u001b[0m\u001b[0;34m,\u001b[0m \u001b[0mcrop_height\u001b[0m\u001b[0;34m,\u001b[0m \u001b[0mcrop_width\u001b[0m\u001b[0;34m)\u001b[0m\u001b[0;34m\u001b[0m\u001b[0;34m\u001b[0m\u001b[0m\n\u001b[0m\u001b[1;32m    379\u001b[0m \u001b[0;34m\u001b[0m\u001b[0m\n\u001b[1;32m    380\u001b[0m \u001b[0;34m\u001b[0m\u001b[0m\n",
      "\u001b[0;32m~/anaconda3/envs/ML/lib/python3.7/site-packages/torchvision/transforms/functional.py\u001b[0m in \u001b[0;36mcrop\u001b[0;34m(img, top, left, height, width)\u001b[0m\n\u001b[1;32m    357\u001b[0m         \u001b[0;32mraise\u001b[0m \u001b[0mTypeError\u001b[0m\u001b[0;34m(\u001b[0m\u001b[0;34m'img should be PIL Image. Got {}'\u001b[0m\u001b[0;34m.\u001b[0m\u001b[0mformat\u001b[0m\u001b[0;34m(\u001b[0m\u001b[0mtype\u001b[0m\u001b[0;34m(\u001b[0m\u001b[0mimg\u001b[0m\u001b[0;34m)\u001b[0m\u001b[0;34m)\u001b[0m\u001b[0;34m)\u001b[0m\u001b[0;34m\u001b[0m\u001b[0;34m\u001b[0m\u001b[0m\n\u001b[1;32m    358\u001b[0m \u001b[0;34m\u001b[0m\u001b[0m\n\u001b[0;32m--> 359\u001b[0;31m     \u001b[0;32mreturn\u001b[0m \u001b[0mimg\u001b[0m\u001b[0;34m.\u001b[0m\u001b[0mcrop\u001b[0m\u001b[0;34m(\u001b[0m\u001b[0;34m(\u001b[0m\u001b[0mleft\u001b[0m\u001b[0;34m,\u001b[0m \u001b[0mtop\u001b[0m\u001b[0;34m,\u001b[0m \u001b[0mleft\u001b[0m \u001b[0;34m+\u001b[0m \u001b[0mwidth\u001b[0m\u001b[0;34m,\u001b[0m \u001b[0mtop\u001b[0m \u001b[0;34m+\u001b[0m \u001b[0mheight\u001b[0m\u001b[0;34m)\u001b[0m\u001b[0;34m)\u001b[0m\u001b[0;34m\u001b[0m\u001b[0;34m\u001b[0m\u001b[0m\n\u001b[0m\u001b[1;32m    360\u001b[0m \u001b[0;34m\u001b[0m\u001b[0m\n\u001b[1;32m    361\u001b[0m \u001b[0;34m\u001b[0m\u001b[0m\n",
      "\u001b[0;32m~/anaconda3/envs/ML/lib/python3.7/site-packages/PIL/Image.py\u001b[0m in \u001b[0;36mcrop\u001b[0;34m(self, box)\u001b[0m\n\u001b[1;32m   1164\u001b[0m             \u001b[0;32mreturn\u001b[0m \u001b[0mself\u001b[0m\u001b[0;34m.\u001b[0m\u001b[0mcopy\u001b[0m\u001b[0;34m(\u001b[0m\u001b[0;34m)\u001b[0m\u001b[0;34m\u001b[0m\u001b[0;34m\u001b[0m\u001b[0m\n\u001b[1;32m   1165\u001b[0m \u001b[0;34m\u001b[0m\u001b[0m\n\u001b[0;32m-> 1166\u001b[0;31m         \u001b[0mself\u001b[0m\u001b[0;34m.\u001b[0m\u001b[0mload\u001b[0m\u001b[0;34m(\u001b[0m\u001b[0;34m)\u001b[0m\u001b[0;34m\u001b[0m\u001b[0;34m\u001b[0m\u001b[0m\n\u001b[0m\u001b[1;32m   1167\u001b[0m         \u001b[0;32mreturn\u001b[0m \u001b[0mself\u001b[0m\u001b[0;34m.\u001b[0m\u001b[0m_new\u001b[0m\u001b[0;34m(\u001b[0m\u001b[0mself\u001b[0m\u001b[0;34m.\u001b[0m\u001b[0m_crop\u001b[0m\u001b[0;34m(\u001b[0m\u001b[0mself\u001b[0m\u001b[0;34m.\u001b[0m\u001b[0mim\u001b[0m\u001b[0;34m,\u001b[0m \u001b[0mbox\u001b[0m\u001b[0;34m)\u001b[0m\u001b[0;34m)\u001b[0m\u001b[0;34m\u001b[0m\u001b[0;34m\u001b[0m\u001b[0m\n\u001b[1;32m   1168\u001b[0m \u001b[0;34m\u001b[0m\u001b[0m\n",
      "\u001b[0;32m~/anaconda3/envs/ML/lib/python3.7/site-packages/PIL/ImageFile.py\u001b[0m in \u001b[0;36mload\u001b[0;34m(self)\u001b[0m\n\u001b[1;32m    251\u001b[0m \u001b[0;34m\u001b[0m\u001b[0m\n\u001b[1;32m    252\u001b[0m                             \u001b[0mb\u001b[0m \u001b[0;34m=\u001b[0m \u001b[0mb\u001b[0m \u001b[0;34m+\u001b[0m \u001b[0ms\u001b[0m\u001b[0;34m\u001b[0m\u001b[0;34m\u001b[0m\u001b[0m\n\u001b[0;32m--> 253\u001b[0;31m                             \u001b[0mn\u001b[0m\u001b[0;34m,\u001b[0m \u001b[0merr_code\u001b[0m \u001b[0;34m=\u001b[0m \u001b[0mdecoder\u001b[0m\u001b[0;34m.\u001b[0m\u001b[0mdecode\u001b[0m\u001b[0;34m(\u001b[0m\u001b[0mb\u001b[0m\u001b[0;34m)\u001b[0m\u001b[0;34m\u001b[0m\u001b[0;34m\u001b[0m\u001b[0m\n\u001b[0m\u001b[1;32m    254\u001b[0m                             \u001b[0;32mif\u001b[0m \u001b[0mn\u001b[0m \u001b[0;34m<\u001b[0m \u001b[0;36m0\u001b[0m\u001b[0;34m:\u001b[0m\u001b[0;34m\u001b[0m\u001b[0;34m\u001b[0m\u001b[0m\n\u001b[1;32m    255\u001b[0m                                 \u001b[0;32mbreak\u001b[0m\u001b[0;34m\u001b[0m\u001b[0;34m\u001b[0m\u001b[0m\n",
      "\u001b[0;31mKeyboardInterrupt\u001b[0m: "
     ]
    }
   ],
   "source": [
    "crop_imgs(\"./bigdata/imagenet-mini/train/\")"
   ]
  },
  {
   "cell_type": "markdown",
   "metadata": {},
   "source": [
    "Once the dataset is downloaded, we need to get rid of a few buggy bw images: "
   ]
  },
  {
   "cell_type": "code",
   "execution_count": 142,
   "metadata": {
    "collapsed": true,
    "jupyter": {
     "outputs_hidden": true
    }
   },
   "outputs": [
    {
     "name": "stdout",
     "output_type": "stream",
     "text": [
      "Progression:100.00%\n",
      "BW files found:\n",
      "../data/imagenet-mini/train/n03920288/n03920288_3315.JPEG\n",
      "../data/imagenet-mini/train/n03920288/n03920288_3629.JPEG\n",
      "../data/imagenet-mini/train/n03942813/n03942813_1800.JPEG\n",
      "../data/imagenet-mini/train/n02791270/n02791270_16505.JPEG\n",
      "../data/imagenet-mini/train/n02791270/n02791270_23048.JPEG\n",
      "../data/imagenet-mini/train/n02950826/n02950826_11905.JPEG\n",
      "../data/imagenet-mini/train/n02950826/n02950826_13787.JPEG\n",
      "../data/imagenet-mini/train/n02894605/n02894605_26115.JPEG\n",
      "../data/imagenet-mini/train/n03782006/n03782006_37777.JPEG\n",
      "../data/imagenet-mini/train/n04041544/n04041544_1401.JPEG\n",
      "../data/imagenet-mini/train/n02403003/n02403003_656.JPEG\n",
      "../data/imagenet-mini/train/n02109047/n02109047_1579.JPEG\n",
      "../data/imagenet-mini/train/n02109047/n02109047_6125.JPEG\n",
      "../data/imagenet-mini/train/n02787622/n02787622_5870.JPEG\n",
      "../data/imagenet-mini/train/n02787622/n02787622_9908.JPEG\n",
      "../data/imagenet-mini/train/n02102480/n02102480_6584.JPEG\n",
      "../data/imagenet-mini/train/n03063689/n03063689_5020.JPEG\n",
      "../data/imagenet-mini/train/n03063689/n03063689_4678.JPEG\n",
      "../data/imagenet-mini/train/n03063689/n03063689_14711.JPEG\n",
      "../data/imagenet-mini/train/n03063689/n03063689_15384.JPEG\n",
      "../data/imagenet-mini/train/n02110958/n02110958_15441.JPEG\n",
      "../data/imagenet-mini/train/n02124075/n02124075_12703.JPEG\n",
      "../data/imagenet-mini/train/n03271574/n03271574_14752.JPEG\n",
      "../data/imagenet-mini/train/n03271574/n03271574_9789.JPEG\n",
      "../data/imagenet-mini/train/n04067472/n04067472_17256.JPEG\n",
      "../data/imagenet-mini/train/n04067472/n04067472_2454.JPEG\n",
      "../data/imagenet-mini/train/n04099969/n04099969_2722.JPEG\n",
      "../data/imagenet-mini/train/n04099969/n04099969_330.JPEG\n",
      "../data/imagenet-mini/train/n04099969/n04099969_10503.JPEG\n",
      "../data/imagenet-mini/train/n04099969/n04099969_7966.JPEG\n",
      "../data/imagenet-mini/train/n02097298/n02097298_12964.JPEG\n",
      "../data/imagenet-mini/train/n03532672/n03532672_38571.JPEG\n",
      "../data/imagenet-mini/train/n03532672/n03532672_48344.JPEG\n",
      "../data/imagenet-mini/train/n03532672/n03532672_28536.JPEG\n",
      "../data/imagenet-mini/train/n01440764/n01440764_15560.JPEG\n",
      "../data/imagenet-mini/train/n01704323/n01704323_1431.JPEG\n",
      "../data/imagenet-mini/train/n01704323/n01704323_7030.JPEG\n",
      "../data/imagenet-mini/train/n01704323/n01704323_8354.JPEG\n",
      "../data/imagenet-mini/train/n01704323/n01704323_1968.JPEG\n",
      "../data/imagenet-mini/train/n03141823/n03141823_3933.JPEG\n",
      "../data/imagenet-mini/train/n02443484/n02443484_1796.JPEG\n",
      "../data/imagenet-mini/train/n02096585/n02096585_10795.JPEG\n",
      "../data/imagenet-mini/train/n02096585/n02096585_6466.JPEG\n",
      "../data/imagenet-mini/train/n02096585/n02096585_10516.JPEG\n",
      "../data/imagenet-mini/train/n02974003/n02974003_9231.JPEG\n",
      "../data/imagenet-mini/train/n03347037/n03347037_17993.JPEG\n",
      "../data/imagenet-mini/train/n02236044/n02236044_4695.JPEG\n",
      "../data/imagenet-mini/train/n02113712/n02113712_4748.JPEG\n",
      "../data/imagenet-mini/train/n02500267/n02500267_7635.JPEG\n",
      "../data/imagenet-mini/train/n03874293/n03874293_12186.JPEG\n",
      "../data/imagenet-mini/train/n03133878/n03133878_3882.JPEG\n",
      "../data/imagenet-mini/train/n03133878/n03133878_1222.JPEG\n",
      "../data/imagenet-mini/train/n03786901/n03786901_10914.JPEG\n",
      "../data/imagenet-mini/train/n04040759/n04040759_38253.JPEG\n",
      "../data/imagenet-mini/train/n04040759/n04040759_12579.JPEG\n",
      "../data/imagenet-mini/train/n03250847/n03250847_13526.JPEG\n",
      "../data/imagenet-mini/train/n03250847/n03250847_16601.JPEG\n",
      "../data/imagenet-mini/train/n03498962/n03498962_9124.JPEG\n",
      "../data/imagenet-mini/train/n03759954/n03759954_19880.JPEG\n",
      "../data/imagenet-mini/train/n02676566/n02676566_9407.JPEG\n",
      "../data/imagenet-mini/train/n03697007/n03697007_171.JPEG\n",
      "../data/imagenet-mini/train/n03388183/n03388183_13836.JPEG\n",
      "../data/imagenet-mini/train/n03950228/n03950228_11028.JPEG\n",
      "../data/imagenet-mini/train/n03950228/n03950228_11161.JPEG\n",
      "../data/imagenet-mini/train/n15075141/n15075141_10244.JPEG\n",
      "../data/imagenet-mini/train/n15075141/n15075141_3267.JPEG\n",
      "../data/imagenet-mini/train/n04366367/n04366367_3874.JPEG\n",
      "../data/imagenet-mini/train/n04366367/n04366367_11770.JPEG\n",
      "../data/imagenet-mini/train/n04366367/n04366367_34620.JPEG\n",
      "../data/imagenet-mini/train/n03832673/n03832673_220.JPEG\n",
      "../data/imagenet-mini/train/n03832673/n03832673_19442.JPEG\n",
      "../data/imagenet-mini/train/n03832673/n03832673_5334.JPEG\n",
      "../data/imagenet-mini/train/n03642806/n03642806_9700.JPEG\n",
      "../data/imagenet-mini/train/n03642806/n03642806_3515.JPEG\n",
      "../data/imagenet-mini/train/n02814860/n02814860_17864.JPEG\n",
      "../data/imagenet-mini/train/n02988304/n02988304_8210.JPEG\n",
      "../data/imagenet-mini/train/n02112137/n02112137_279.JPEG\n",
      "../data/imagenet-mini/train/n03887697/n03887697_4952.JPEG\n",
      "../data/imagenet-mini/train/n02965783/n02965783_4887.JPEG\n",
      "../data/imagenet-mini/train/n02823428/n02823428_3803.JPEG\n",
      "../data/imagenet-mini/train/n03255030/n03255030_11039.JPEG\n",
      "../data/imagenet-mini/train/n03255030/n03255030_8885.JPEG\n",
      "../data/imagenet-mini/train/n03255030/n03255030_9247.JPEG\n",
      "../data/imagenet-mini/train/n03255030/n03255030_11118.JPEG\n",
      "../data/imagenet-mini/train/n03933933/n03933933_6303.JPEG\n",
      "../data/imagenet-mini/train/n03933933/n03933933_24509.JPEG\n",
      "../data/imagenet-mini/train/n04428191/n04428191_43456.JPEG\n",
      "../data/imagenet-mini/train/n04428191/n04428191_2240.JPEG\n",
      "../data/imagenet-mini/train/n04428191/n04428191_6483.JPEG\n",
      "../data/imagenet-mini/train/n02091244/n02091244_8124.JPEG\n",
      "../data/imagenet-mini/train/n02808440/n02808440_55396.JPEG\n",
      "../data/imagenet-mini/train/n02808440/n02808440_47134.JPEG\n",
      "../data/imagenet-mini/train/n02966687/n02966687_3742.JPEG\n",
      "../data/imagenet-mini/train/n02091831/n02091831_3598.JPEG\n",
      "../data/imagenet-mini/train/n03976467/n03976467_3522.JPEG\n",
      "../data/imagenet-mini/train/n03976467/n03976467_16598.JPEG\n",
      "../data/imagenet-mini/train/n03976467/n03976467_20470.JPEG\n",
      "../data/imagenet-mini/train/n04347754/n04347754_32095.JPEG\n",
      "../data/imagenet-mini/train/n04347754/n04347754_3334.JPEG\n",
      "../data/imagenet-mini/train/n03404251/n03404251_9354.JPEG\n",
      "../data/imagenet-mini/train/n03733281/n03733281_23036.JPEG\n",
      "../data/imagenet-mini/train/n04074963/n04074963_19650.JPEG\n",
      "../data/imagenet-mini/train/n04074963/n04074963_6499.JPEG\n",
      "../data/imagenet-mini/train/n03916031/n03916031_41551.JPEG\n",
      "../data/imagenet-mini/train/n04392985/n04392985_2489.JPEG\n",
      "../data/imagenet-mini/train/n04392985/n04392985_4047.JPEG\n",
      "../data/imagenet-mini/train/n03998194/n03998194_6751.JPEG\n",
      "../data/imagenet-mini/train/n04515003/n04515003_32327.JPEG\n",
      "../data/imagenet-mini/train/n04515003/n04515003_10380.JPEG\n",
      "../data/imagenet-mini/train/n02071294/n02071294_6873.JPEG\n",
      "../data/imagenet-mini/train/n03794056/n03794056_13949.JPEG\n",
      "../data/imagenet-mini/train/n03794056/n03794056_10172.JPEG\n",
      "../data/imagenet-mini/train/n03794056/n03794056_10490.JPEG\n",
      "../data/imagenet-mini/train/n04507155/n04507155_14941.JPEG\n",
      "../data/imagenet-mini/train/n04090263/n04090263_15504.JPEG\n",
      "../data/imagenet-mini/train/n02002556/n02002556_5205.JPEG\n",
      "../data/imagenet-mini/train/n02088238/n02088238_1485.JPEG\n",
      "../data/imagenet-mini/train/n02092002/n02092002_12862.JPEG\n",
      "../data/imagenet-mini/train/n02883205/n02883205_60864.JPEG\n",
      "../data/imagenet-mini/train/n02883205/n02883205_2488.JPEG\n",
      "../data/imagenet-mini/train/n02883205/n02883205_16367.JPEG\n",
      "../data/imagenet-mini/train/n02883205/n02883205_16443.JPEG\n",
      "../data/imagenet-mini/train/n02883205/n02883205_23760.JPEG\n",
      "../data/imagenet-mini/train/n02795169/n02795169_11492.JPEG\n",
      "../data/imagenet-mini/train/n02795169/n02795169_7453.JPEG\n",
      "../data/imagenet-mini/train/n03773504/n03773504_23078.JPEG\n",
      "../data/imagenet-mini/train/n03773504/n03773504_25680.JPEG\n",
      "../data/imagenet-mini/train/n04482393/n04482393_3891.JPEG\n",
      "../data/imagenet-mini/train/n02930766/n02930766_20313.JPEG\n",
      "../data/imagenet-mini/train/n04296562/n04296562_18979.JPEG\n",
      "../data/imagenet-mini/train/n02108915/n02108915_6894.JPEG\n",
      "../data/imagenet-mini/train/n03085013/n03085013_5430.JPEG\n",
      "../data/imagenet-mini/train/n03085013/n03085013_20901.JPEG\n",
      "../data/imagenet-mini/train/n03085013/n03085013_22945.JPEG\n",
      "../data/imagenet-mini/train/n03085013/n03085013_12140.JPEG\n",
      "../data/imagenet-mini/train/n03085013/n03085013_21506.JPEG\n",
      "../data/imagenet-mini/train/n03085013/n03085013_23775.JPEG\n",
      "../data/imagenet-mini/train/n04591157/n04591157_576.JPEG\n",
      "../data/imagenet-mini/train/n02328150/n02328150_1797.JPEG\n",
      "../data/imagenet-mini/train/n02791124/n02791124_1928.JPEG\n",
      "../data/imagenet-mini/train/n02791124/n02791124_6387.JPEG\n",
      "../data/imagenet-mini/train/n04238763/n04238763_22437.JPEG\n",
      "../data/imagenet-mini/train/n03763968/n03763968_6975.JPEG\n",
      "../data/imagenet-mini/train/n03062245/n03062245_4527.JPEG\n",
      "../data/imagenet-mini/train/n04141076/n04141076_43949.JPEG\n",
      "../data/imagenet-mini/train/n04141076/n04141076_75558.JPEG\n",
      "../data/imagenet-mini/train/n04141076/n04141076_71154.JPEG\n",
      "../data/imagenet-mini/train/n04141076/n04141076_73894.JPEG\n",
      "../data/imagenet-mini/train/n04447861/n04447861_3339.JPEG\n",
      "../data/imagenet-mini/train/n03376595/n03376595_6525.JPEG\n",
      "../data/imagenet-mini/train/n04023962/n04023962_9274.JPEG\n",
      "../data/imagenet-mini/train/n04023962/n04023962_37636.JPEG\n",
      "../data/imagenet-mini/train/n04023962/n04023962_50943.JPEG\n",
      "../data/imagenet-mini/train/n03793489/n03793489_10431.JPEG\n",
      "../data/imagenet-mini/train/n04070727/n04070727_39231.JPEG\n",
      "../data/imagenet-mini/train/n04070727/n04070727_60011.JPEG\n",
      "../data/imagenet-mini/train/n02120505/n02120505_15958.JPEG\n",
      "../data/imagenet-mini/train/n02483362/n02483362_6436.JPEG\n",
      "../data/imagenet-mini/train/n04442312/n04442312_14092.JPEG\n",
      "../data/imagenet-mini/train/n04442312/n04442312_11526.JPEG\n",
      "../data/imagenet-mini/train/n03065424/n03065424_17272.JPEG\n",
      "../data/imagenet-mini/train/n03065424/n03065424_68951.JPEG\n",
      "../data/imagenet-mini/train/n03924679/n03924679_10873.JPEG\n",
      "../data/imagenet-mini/train/n02892767/n02892767_4201.JPEG\n",
      "../data/imagenet-mini/train/n02107312/n02107312_2048.JPEG\n",
      "../data/imagenet-mini/train/n04590129/n04590129_22609.JPEG\n",
      "../data/imagenet-mini/train/n04590129/n04590129_12864.JPEG\n",
      "../data/imagenet-mini/train/n04590129/n04590129_8578.JPEG\n",
      "../data/imagenet-mini/train/n04590129/n04590129_37963.JPEG\n",
      "../data/imagenet-mini/train/n07753592/n07753592_9565.JPEG\n",
      "../data/imagenet-mini/train/n02107142/n02107142_52349.JPEG\n",
      "../data/imagenet-mini/train/n02110627/n02110627_22516.JPEG\n",
      "../data/imagenet-mini/train/n02088466/n02088466_12216.JPEG\n",
      "../data/imagenet-mini/train/n02088466/n02088466_11132.JPEG\n",
      "../data/imagenet-mini/train/n03721384/n03721384_1709.JPEG\n",
      "../data/imagenet-mini/train/n03220513/n03220513_4782.JPEG\n",
      "../data/imagenet-mini/train/n02837789/n02837789_21447.JPEG\n",
      "../data/imagenet-mini/train/n02837789/n02837789_23422.JPEG\n",
      "../data/imagenet-mini/train/n02111500/n02111500_7146.JPEG\n",
      "../data/imagenet-mini/train/n02793495/n02793495_9539.JPEG\n",
      "../data/imagenet-mini/train/n02793495/n02793495_4609.JPEG\n",
      "../data/imagenet-mini/train/n03891251/n03891251_2898.JPEG\n",
      "../data/imagenet-mini/train/n03891251/n03891251_3947.JPEG\n",
      "../data/imagenet-mini/train/n03891251/n03891251_5637.JPEG\n",
      "../data/imagenet-mini/train/n03891251/n03891251_3383.JPEG\n",
      "../data/imagenet-mini/train/n04286575/n04286575_4871.JPEG\n",
      "../data/imagenet-mini/train/n02992529/n02992529_21092.JPEG\n",
      "../data/imagenet-mini/train/n02992529/n02992529_60654.JPEG\n",
      "../data/imagenet-mini/train/n02992529/n02992529_3308.JPEG\n",
      "../data/imagenet-mini/train/n04486054/n04486054_8908.JPEG\n",
      "../data/imagenet-mini/train/n03372029/n03372029_44161.JPEG\n",
      "../data/imagenet-mini/train/n03372029/n03372029_41945.JPEG\n",
      "../data/imagenet-mini/train/n04037443/n04037443_8697.JPEG\n",
      "../data/imagenet-mini/train/n04037443/n04037443_22059.JPEG\n",
      "../data/imagenet-mini/train/n03838899/n03838899_16491.JPEG\n",
      "../data/imagenet-mini/train/n03838899/n03838899_31104.JPEG\n",
      "../data/imagenet-mini/train/n04606251/n04606251_32516.JPEG\n",
      "../data/imagenet-mini/train/n03457902/n03457902_6713.JPEG\n",
      "../data/imagenet-mini/train/n07930864/n07930864_10538.JPEG\n",
      "../data/imagenet-mini/train/n07930864/n07930864_30821.JPEG\n",
      "../data/imagenet-mini/train/n03954731/n03954731_15587.JPEG\n",
      "../data/imagenet-mini/train/n01930112/n01930112_9652.JPEG\n",
      "../data/imagenet-mini/train/n01930112/n01930112_4440.JPEG\n",
      "../data/imagenet-mini/train/n01930112/n01930112_13988.JPEG\n",
      "../data/imagenet-mini/train/n01930112/n01930112_7379.JPEG\n",
      "../data/imagenet-mini/train/n01930112/n01930112_14916.JPEG\n",
      "../data/imagenet-mini/train/n04208210/n04208210_28386.JPEG\n",
      "../data/imagenet-mini/train/n04258138/n04258138_5172.JPEG\n",
      "../data/imagenet-mini/train/n04332243/n04332243_31816.JPEG\n",
      "../data/imagenet-mini/train/n02105056/n02105056_3683.JPEG\n",
      "../data/imagenet-mini/train/n02105056/n02105056_11069.JPEG\n",
      "../data/imagenet-mini/train/n02105056/n02105056_289.JPEG\n",
      "../data/imagenet-mini/train/n02692877/n02692877_32831.JPEG\n",
      "../data/imagenet-mini/train/n02692877/n02692877_18298.JPEG\n",
      "../data/imagenet-mini/train/n02692877/n02692877_5920.JPEG\n",
      "../data/imagenet-mini/train/n02692877/n02692877_5858.JPEG\n",
      "../data/imagenet-mini/train/n02692877/n02692877_6627.JPEG\n",
      "../data/imagenet-mini/train/n02692877/n02692877_6368.JPEG\n",
      "../data/imagenet-mini/train/n02692877/n02692877_3502.JPEG\n",
      "../data/imagenet-mini/train/n02692877/n02692877_3725.JPEG\n",
      "../data/imagenet-mini/train/n02692877/n02692877_25356.JPEG\n",
      "../data/imagenet-mini/train/n02093754/n02093754_6541.JPEG\n",
      "../data/imagenet-mini/train/n01491361/n01491361_5388.JPEG\n",
      "../data/imagenet-mini/train/n01491361/n01491361_4245.JPEG\n",
      "../data/imagenet-mini/train/n03538406/n03538406_3638.JPEG\n",
      "../data/imagenet-mini/train/n04467665/n04467665_7988.JPEG\n",
      "../data/imagenet-mini/train/n04553703/n04553703_18609.JPEG\n",
      "../data/imagenet-mini/train/n04553703/n04553703_34716.JPEG\n",
      "../data/imagenet-mini/train/n01795545/n01795545_13257.JPEG\n",
      "../data/imagenet-mini/train/n04612504/n04612504_364.JPEG\n",
      "../data/imagenet-mini/train/n03595614/n03595614_7821.JPEG\n",
      "../data/imagenet-mini/train/n03657121/n03657121_18041.JPEG\n",
      "../data/imagenet-mini/train/n03657121/n03657121_470.JPEG\n",
      "../data/imagenet-mini/train/n03657121/n03657121_7288.JPEG\n",
      "../data/imagenet-mini/train/n03657121/n03657121_41088.JPEG\n",
      "../data/imagenet-mini/train/n04081281/n04081281_4577.JPEG\n",
      "../data/imagenet-mini/train/n02095889/n02095889_9201.JPEG\n",
      "../data/imagenet-mini/train/n02095889/n02095889_5132.JPEG\n",
      "../data/imagenet-mini/train/n03895866/n03895866_127963.JPEG\n",
      "../data/imagenet-mini/train/n03895866/n03895866_94175.JPEG\n",
      "../data/imagenet-mini/train/n03895866/n03895866_137050.JPEG\n",
      "../data/imagenet-mini/train/n03110669/n03110669_162283.JPEG\n",
      "../data/imagenet-mini/train/n03110669/n03110669_85296.JPEG\n",
      "../data/imagenet-mini/train/n03110669/n03110669_72318.JPEG\n",
      "../data/imagenet-mini/train/n03110669/n03110669_112169.JPEG\n",
      "../data/imagenet-mini/train/n04153751/n04153751_3405.JPEG\n",
      "../data/imagenet-mini/train/n04153751/n04153751_10444.JPEG\n",
      "../data/imagenet-mini/train/n02669723/n02669723_2185.JPEG\n",
      "../data/imagenet-mini/train/n09428293/n09428293_46398.JPEG\n",
      "../data/imagenet-mini/train/n04532670/n04532670_15008.JPEG\n",
      "../data/imagenet-mini/train/n04532670/n04532670_10007.JPEG\n",
      "../data/imagenet-mini/train/n04532670/n04532670_32887.JPEG\n",
      "../data/imagenet-mini/train/n04532670/n04532670_18431.JPEG\n",
      "../data/imagenet-mini/train/n03908714/n03908714_105.JPEG\n",
      "../data/imagenet-mini/train/n03908714/n03908714_4058.JPEG\n",
      "../data/imagenet-mini/train/n03908714/n03908714_1861.JPEG\n",
      "../data/imagenet-mini/train/n03908714/n03908714_3926.JPEG\n",
      "../data/imagenet-mini/train/n03908714/n03908714_637.JPEG\n",
      "../data/imagenet-mini/train/n03443371/n03443371_11660.JPEG\n",
      "../data/imagenet-mini/train/n03961711/n03961711_1738.JPEG\n",
      "../data/imagenet-mini/train/n03891332/n03891332_483.JPEG\n",
      "../data/imagenet-mini/train/n03891332/n03891332_4026.JPEG\n",
      "../data/imagenet-mini/train/n03673027/n03673027_22831.JPEG\n",
      "../data/imagenet-mini/train/n02951585/n02951585_17058.JPEG\n",
      "../data/imagenet-mini/train/n02951585/n02951585_91.JPEG\n",
      "../data/imagenet-mini/train/n02110341/n02110341_14123.JPEG\n",
      "../data/imagenet-mini/train/n04330267/n04330267_16564.JPEG\n",
      "../data/imagenet-mini/train/n04330267/n04330267_18079.JPEG\n",
      "../data/imagenet-mini/train/n02092339/n02092339_6110.JPEG\n",
      "../data/imagenet-mini/train/n02092339/n02092339_5116.JPEG\n",
      "../data/imagenet-mini/train/n02092339/n02092339_6429.JPEG\n",
      "../data/imagenet-mini/train/n03476991/n03476991_29558.JPEG\n",
      "../data/imagenet-mini/train/n03476991/n03476991_27682.JPEG\n",
      "../data/imagenet-mini/train/n03452741/n03452741_11213.JPEG\n",
      "../data/imagenet-mini/train/n04204238/n04204238_7491.JPEG\n",
      "../data/imagenet-mini/train/n03874599/n03874599_2951.JPEG\n",
      "../data/imagenet-mini/train/n02097047/n02097047_2545.JPEG\n",
      "../data/imagenet-mini/train/n03180011/n03180011_10259.JPEG\n",
      "../data/imagenet-mini/train/n04465501/n04465501_1377.JPEG\n",
      "../data/imagenet-mini/train/n04465501/n04465501_3331.JPEG\n",
      "../data/imagenet-mini/train/n03884397/n03884397_8436.JPEG\n",
      "../data/imagenet-mini/train/n03884397/n03884397_5419.JPEG\n",
      "../data/imagenet-mini/train/n03630383/n03630383_3798.JPEG\n",
      "../data/imagenet-mini/train/n02093647/n02093647_8044.JPEG\n",
      "../data/imagenet-mini/train/n03394916/n03394916_7045.JPEG\n",
      "../data/imagenet-mini/train/n04589890/n04589890_2205.JPEG\n",
      "../data/imagenet-mini/train/n04589890/n04589890_9771.JPEG\n",
      "../data/imagenet-mini/train/n03124043/n03124043_2249.JPEG\n",
      "../data/imagenet-mini/train/n03017168/n03017168_18051.JPEG\n",
      "../data/imagenet-mini/train/n03017168/n03017168_38025.JPEG\n",
      "../data/imagenet-mini/train/n03017168/n03017168_33511.JPEG\n",
      "../data/imagenet-mini/train/n02408429/n02408429_11593.JPEG\n",
      "../data/imagenet-mini/train/n02859443/n02859443_18078.JPEG\n",
      "../data/imagenet-mini/train/n02085620/n02085620_4629.JPEG\n",
      "../data/imagenet-mini/train/n02085620/n02085620_4210.JPEG\n",
      "../data/imagenet-mini/train/n02085620/n02085620_1194.JPEG\n",
      "../data/imagenet-mini/train/n02112706/n02112706_2856.JPEG\n",
      "../data/imagenet-mini/train/n04370456/n04370456_11533.JPEG\n",
      "../data/imagenet-mini/train/n02979186/n02979186_1587.JPEG\n",
      "../data/imagenet-mini/train/n03445777/n03445777_8971.JPEG\n",
      "../data/imagenet-mini/train/n03445777/n03445777_5325.JPEG\n",
      "../data/imagenet-mini/train/n01990800/n01990800_16602.JPEG\n",
      "../data/imagenet-mini/train/n04548280/n04548280_5424.JPEG\n",
      "../data/imagenet-mini/train/n02128925/n02128925_3789.JPEG\n",
      "../data/imagenet-mini/train/n03958227/n03958227_4724.JPEG\n",
      "../data/imagenet-mini/train/n03109150/n03109150_5636.JPEG\n",
      "../data/imagenet-mini/train/n03109150/n03109150_25112.JPEG\n",
      "../data/imagenet-mini/train/n07802026/n07802026_152.JPEG\n",
      "../data/imagenet-mini/train/n07802026/n07802026_20020.JPEG\n",
      "../data/imagenet-mini/train/n07802026/n07802026_17453.JPEG\n",
      "../data/imagenet-mini/train/n04005630/n04005630_95489.JPEG\n",
      "../data/imagenet-mini/train/n03804744/n03804744_10763.JPEG\n",
      "../data/imagenet-mini/train/n02089078/n02089078_2638.JPEG\n",
      "../data/imagenet-mini/train/n02481823/n02481823_14519.JPEG\n",
      "../data/imagenet-mini/train/n02481823/n02481823_3990.JPEG\n",
      "../data/imagenet-mini/train/n02481823/n02481823_1191.JPEG\n",
      "../data/imagenet-mini/train/n02481823/n02481823_17637.JPEG\n",
      "../data/imagenet-mini/train/n04259630/n04259630_11609.JPEG\n",
      "../data/imagenet-mini/train/n02794156/n02794156_19363.JPEG\n",
      "../data/imagenet-mini/train/n02794156/n02794156_10156.JPEG\n",
      "../data/imagenet-mini/train/n02794156/n02794156_1916.JPEG\n",
      "../data/imagenet-mini/train/n04147183/n04147183_13979.JPEG\n",
      "../data/imagenet-mini/train/n02916936/n02916936_9535.JPEG\n",
      "../data/imagenet-mini/train/n02916936/n02916936_1445.JPEG\n",
      "../data/imagenet-mini/train/n03868863/n03868863_4734.JPEG\n",
      "../data/imagenet-mini/train/n03868863/n03868863_132.JPEG\n",
      "../data/imagenet-mini/train/n03868863/n03868863_6703.JPEG\n",
      "../data/imagenet-mini/train/n04204347/n04204347_7406.JPEG\n",
      "../data/imagenet-mini/train/n01514859/n01514859_9725.JPEG\n",
      "../data/imagenet-mini/train/n04443257/n04443257_41924.JPEG\n",
      "../data/imagenet-mini/train/n04443257/n04443257_20359.JPEG\n",
      "../data/imagenet-mini/train/n04009552/n04009552_2159.JPEG\n",
      "../data/imagenet-mini/train/n03873416/n03873416_4377.JPEG\n",
      "../data/imagenet-mini/train/n03272562/n03272562_7870.JPEG\n",
      "../data/imagenet-mini/train/n03127925/n03127925_3988.JPEG\n",
      "../data/imagenet-mini/train/n02105641/n02105641_3786.JPEG\n",
      "../data/imagenet-mini/train/n02111889/n02111889_3691.JPEG\n",
      "../data/imagenet-mini/train/n02708093/n02708093_304.JPEG\n",
      "../data/imagenet-mini/train/n02708093/n02708093_3206.JPEG\n",
      "../data/imagenet-mini/train/n04254680/n04254680_7339.JPEG\n",
      "../data/imagenet-mini/train/n03743016/n03743016_14769.JPEG\n",
      "../data/imagenet-mini/train/n03743016/n03743016_4320.JPEG\n",
      "../data/imagenet-mini/train/n04562935/n04562935_6426.JPEG\n",
      "../data/imagenet-mini/train/n04118776/n04118776_68075.JPEG\n",
      "../data/imagenet-mini/train/n04118776/n04118776_3546.JPEG\n",
      "../data/imagenet-mini/train/n02091134/n02091134_1526.JPEG\n",
      "../data/imagenet-mini/train/n04458633/n04458633_3571.JPEG\n",
      "../data/imagenet-mini/train/n04458633/n04458633_4746.JPEG\n",
      "../data/imagenet-mini/train/n03344393/n03344393_6191.JPEG\n",
      "../data/imagenet-mini/train/n02999410/n02999410_10081.JPEG\n",
      "../data/imagenet-mini/train/n02999410/n02999410_19414.JPEG\n",
      "../data/imagenet-mini/train/n02999410/n02999410_8597.JPEG\n",
      "../data/imagenet-mini/train/n02999410/n02999410_17559.JPEG\n",
      "../data/imagenet-mini/train/n02105505/n02105505_2467.JPEG\n",
      "../data/imagenet-mini/train/n02105505/n02105505_5898.JPEG\n",
      "../data/imagenet-mini/train/n04525305/n04525305_4072.JPEG\n",
      "../data/imagenet-mini/train/n03467068/n03467068_8691.JPEG\n",
      "../data/imagenet-mini/train/n03467068/n03467068_10035.JPEG\n",
      "../data/imagenet-mini/train/n03467068/n03467068_8800.JPEG\n",
      "../data/imagenet-mini/train/n04008634/n04008634_25354.JPEG\n",
      "../data/imagenet-mini/train/n04008634/n04008634_18231.JPEG\n",
      "../data/imagenet-mini/train/n04069434/n04069434_21934.JPEG\n",
      "../data/imagenet-mini/train/n04069434/n04069434_4001.JPEG\n",
      "../data/imagenet-mini/train/n04069434/n04069434_11503.JPEG\n",
      "../data/imagenet-mini/train/n02488291/n02488291_1558.JPEG\n",
      "../data/imagenet-mini/train/n02488291/n02488291_1510.JPEG\n",
      "../data/imagenet-mini/train/n04263257/n04263257_1946.JPEG\n",
      "../data/imagenet-mini/train/n03888605/n03888605_36989.JPEG\n",
      "../data/imagenet-mini/train/n04505470/n04505470_5154.JPEG\n",
      "../data/imagenet-mini/train/n04505470/n04505470_2769.JPEG\n",
      "../data/imagenet-mini/train/n03992509/n03992509_1708.JPEG\n",
      "../data/imagenet-mini/train/n03992509/n03992509_14593.JPEG\n",
      "../data/imagenet-mini/train/n03992509/n03992509_8228.JPEG\n",
      "../data/imagenet-mini/train/n03992509/n03992509_874.JPEG\n",
      "../data/imagenet-mini/train/n03658185/n03658185_4260.JPEG\n",
      "../data/imagenet-mini/train/n02860847/n02860847_6819.JPEG\n",
      "../data/imagenet-mini/train/n02860847/n02860847_29748.JPEG\n",
      "../data/imagenet-mini/train/n02099267/n02099267_512.JPEG\n",
      "../data/imagenet-mini/train/n03982430/n03982430_27117.JPEG\n",
      "../data/imagenet-mini/train/n04317175/n04317175_6652.JPEG\n",
      "../data/imagenet-mini/train/n04536866/n04536866_3282.JPEG\n",
      "../data/imagenet-mini/train/n04536866/n04536866_20544.JPEG\n",
      "../data/imagenet-mini/train/n04536866/n04536866_3629.JPEG\n",
      "../data/imagenet-mini/train/n04536866/n04536866_12210.JPEG\n",
      "../data/imagenet-mini/train/n04536866/n04536866_12630.JPEG\n",
      "../data/imagenet-mini/train/n02749479/n02749479_89.JPEG\n",
      "../data/imagenet-mini/train/n02749479/n02749479_29157.JPEG\n",
      "../data/imagenet-mini/train/n02749479/n02749479_4779.JPEG\n",
      "../data/imagenet-mini/train/n02749479/n02749479_932.JPEG\n",
      "../data/imagenet-mini/train/n03075370/n03075370_2458.JPEG\n",
      "../data/imagenet-mini/train/n03075370/n03075370_9413.JPEG\n",
      "../data/imagenet-mini/train/n03483316/n03483316_11347.JPEG\n",
      "../data/imagenet-mini/train/n03483316/n03483316_21775.JPEG\n",
      "../data/imagenet-mini/train/n04131690/n04131690_8589.JPEG\n",
      "../data/imagenet-mini/train/n02879718/n02879718_30188.JPEG\n",
      "../data/imagenet-mini/train/n03000134/n03000134_4747.JPEG\n",
      "../data/imagenet-mini/train/n03000134/n03000134_2546.JPEG\n",
      "../data/imagenet-mini/train/n03000134/n03000134_1753.JPEG\n",
      "../data/imagenet-mini/train/n03000134/n03000134_14.JPEG\n",
      "../data/imagenet-mini/train/n02895154/n02895154_9919.JPEG\n",
      "../data/imagenet-mini/train/n03902125/n03902125_21133.JPEG\n",
      "../data/imagenet-mini/train/n02093859/n02093859_4345.JPEG\n",
      "../data/imagenet-mini/train/n04200800/n04200800_38142.JPEG\n",
      "../data/imagenet-mini/train/n03661043/n03661043_7787.JPEG\n",
      "../data/imagenet-mini/train/n04209239/n04209239_11024.JPEG\n",
      "../data/imagenet-mini/train/n04209239/n04209239_8143.JPEG\n",
      "../data/imagenet-mini/train/n03424325/n03424325_23753.JPEG\n",
      "../data/imagenet-mini/train/n03424325/n03424325_5687.JPEG\n",
      "../data/imagenet-mini/train/n03602883/n03602883_11170.JPEG\n",
      "../data/imagenet-mini/train/n02091467/n02091467_4823.JPEG\n",
      "../data/imagenet-mini/train/n02091467/n02091467_12614.JPEG\n",
      "../data/imagenet-mini/train/n04127249/n04127249_2853.JPEG\n",
      "../data/imagenet-mini/train/n03495258/n03495258_9193.JPEG\n",
      "../data/imagenet-mini/train/n03495258/n03495258_16828.JPEG\n",
      "../data/imagenet-mini/train/n03495258/n03495258_25470.JPEG\n",
      "../data/imagenet-mini/train/n03970156/n03970156_28533.JPEG\n",
      "../data/imagenet-mini/train/n02391049/n02391049_1508.JPEG\n",
      "../data/imagenet-mini/train/n03930313/n03930313_474.JPEG\n",
      "../data/imagenet-mini/train/n02085936/n02085936_14974.JPEG\n",
      "../data/imagenet-mini/train/n03777754/n03777754_2785.JPEG\n",
      "../data/imagenet-mini/train/n02978881/n02978881_607.JPEG\n",
      "../data/imagenet-mini/train/n02978881/n02978881_43638.JPEG\n",
      "../data/imagenet-mini/train/n02978881/n02978881_12420.JPEG\n",
      "../data/imagenet-mini/train/n02978881/n02978881_12824.JPEG\n",
      "../data/imagenet-mini/train/n01494475/n01494475_4148.JPEG\n",
      "../data/imagenet-mini/train/n03825788/n03825788_6706.JPEG\n",
      "../data/imagenet-mini/train/n03494278/n03494278_38369.JPEG\n",
      "../data/imagenet-mini/train/n03494278/n03494278_34652.JPEG\n",
      "../data/imagenet-mini/train/n03633091/n03633091_12244.JPEG\n",
      "../data/imagenet-mini/train/n04509417/n04509417_4949.JPEG\n",
      "../data/imagenet-mini/train/n04509417/n04509417_6017.JPEG\n",
      "../data/imagenet-mini/train/n07920052/n07920052_599.JPEG\n",
      "../data/imagenet-mini/train/n01737021/n01737021_429.JPEG\n",
      "../data/imagenet-mini/train/n03599486/n03599486_13087.JPEG\n",
      "../data/imagenet-mini/train/n04554684/n04554684_4076.JPEG\n",
      "../data/imagenet-mini/train/n02939185/n02939185_21836.JPEG\n",
      "../data/imagenet-mini/train/n02104029/n02104029_7622.JPEG\n",
      "../data/imagenet-mini/train/n04328186/n04328186_48308.JPEG\n",
      "../data/imagenet-mini/train/n04328186/n04328186_4766.JPEG\n",
      "../data/imagenet-mini/train/n04328186/n04328186_8361.JPEG\n",
      "../data/imagenet-mini/train/n03692522/n03692522_12000.JPEG\n",
      "../data/imagenet-mini/train/n03692522/n03692522_4410.JPEG\n",
      "../data/imagenet-mini/train/n03692522/n03692522_11536.JPEG\n",
      "../data/imagenet-mini/train/n04019541/n04019541_8604.JPEG\n",
      "../data/imagenet-mini/train/n04356056/n04356056_60202.JPEG\n",
      "../data/imagenet-mini/train/n04356056/n04356056_2540.JPEG\n",
      "../data/imagenet-mini/train/n06785654/n06785654_3588.JPEG\n",
      "../data/imagenet-mini/train/n06785654/n06785654_11253.JPEG\n",
      "../data/imagenet-mini/train/n06785654/n06785654_12009.JPEG\n",
      "../data/imagenet-mini/train/n06785654/n06785654_3680.JPEG\n",
      "../data/imagenet-mini/train/n06785654/n06785654_3346.JPEG\n",
      "../data/imagenet-mini/train/n06785654/n06785654_2319.JPEG\n",
      "../data/imagenet-mini/train/n04336792/n04336792_19464.JPEG\n",
      "../data/imagenet-mini/train/n04336792/n04336792_42773.JPEG\n",
      "../data/imagenet-mini/train/n04336792/n04336792_18677.JPEG\n",
      "../data/imagenet-mini/train/n04162706/n04162706_46463.JPEG\n",
      "../data/imagenet-mini/train/n04162706/n04162706_18311.JPEG\n",
      "../data/imagenet-mini/train/n04162706/n04162706_10402.JPEG\n",
      "../data/imagenet-mini/train/n03903868/n03903868_50629.JPEG\n",
      "../data/imagenet-mini/train/n04141975/n04141975_35800.JPEG\n",
      "../data/imagenet-mini/train/n04141975/n04141975_15.JPEG\n",
      "../data/imagenet-mini/train/n04141975/n04141975_11858.JPEG\n",
      "../data/imagenet-mini/train/n04141975/n04141975_34852.JPEG\n",
      "../data/imagenet-mini/train/n04154565/n04154565_25237.JPEG\n",
      "../data/imagenet-mini/train/n04423845/n04423845_3482.JPEG\n",
      "../data/imagenet-mini/train/n04423845/n04423845_10470.JPEG\n",
      "../data/imagenet-mini/train/n04487081/n04487081_11484.JPEG\n",
      "../data/imagenet-mini/train/n04560804/n04560804_10316.JPEG\n",
      "../data/imagenet-mini/train/n04560804/n04560804_13629.JPEG\n",
      "../data/imagenet-mini/train/n04560804/n04560804_4935.JPEG\n",
      "../data/imagenet-mini/train/n04039381/n04039381_19558.JPEG\n",
      "../data/imagenet-mini/train/n02113624/n02113624_6418.JPEG\n",
      "../data/imagenet-mini/train/n02687172/n02687172_34236.JPEG\n",
      "../data/imagenet-mini/train/n02992211/n02992211_26518.JPEG\n",
      "../data/imagenet-mini/train/n02992211/n02992211_37588.JPEG\n",
      "../data/imagenet-mini/train/n02992211/n02992211_30118.JPEG\n",
      "../data/imagenet-mini/train/n02992211/n02992211_33045.JPEG\n",
      "../data/imagenet-mini/train/n02992211/n02992211_34104.JPEG\n",
      "../data/imagenet-mini/train/n02992211/n02992211_33025.JPEG\n",
      "../data/imagenet-mini/train/n02992211/n02992211_37010.JPEG\n",
      "../data/imagenet-mini/train/n03929660/n03929660_969.JPEG\n",
      "../data/imagenet-mini/train/n03929660/n03929660_20053.JPEG\n",
      "../data/imagenet-mini/train/n03929660/n03929660_2693.JPEG\n",
      "../data/imagenet-mini/train/n03929660/n03929660_56931.JPEG\n",
      "../data/imagenet-mini/train/n03929660/n03929660_13396.JPEG\n",
      "../data/imagenet-mini/train/n03297495/n03297495_628.JPEG\n",
      "../data/imagenet-mini/train/n04417672/n04417672_13599.JPEG\n",
      "../data/imagenet-mini/train/n03777568/n03777568_1037.JPEG\n",
      "../data/imagenet-mini/train/n03777568/n03777568_17270.JPEG\n",
      "../data/imagenet-mini/train/n04461696/n04461696_2394.JPEG\n",
      "../data/imagenet-mini/train/n04326547/n04326547_12133.JPEG\n",
      "../data/imagenet-mini/train/n02013706/n02013706_4625.JPEG\n",
      "../data/imagenet-mini/train/n04501370/n04501370_11469.JPEG\n",
      "../data/imagenet-mini/train/n03929855/n03929855_6199.JPEG\n",
      "../data/imagenet-mini/train/n02086240/n02086240_3799.JPEG\n",
      "../data/imagenet-mini/train/n02480855/n02480855_252.JPEG\n",
      "../data/imagenet-mini/train/n02480855/n02480855_17876.JPEG\n",
      "../data/imagenet-mini/train/n02480855/n02480855_15738.JPEG\n",
      "../data/imagenet-mini/train/n03379051/n03379051_7286.JPEG\n",
      "../data/imagenet-mini/train/n02977058/n02977058_22084.JPEG\n",
      "../data/imagenet-mini/train/n01773157/n01773157_9579.JPEG\n",
      "../data/imagenet-mini/train/n02088632/n02088632_4771.JPEG\n",
      "../data/imagenet-mini/train/n03709823/n03709823_1562.JPEG\n",
      "../data/imagenet-mini/train/n03530642/n03530642_46236.JPEG\n",
      "../data/imagenet-mini/train/n04579432/n04579432_18779.JPEG\n",
      "../data/imagenet-mini/train/n03976657/n03976657_8585.JPEG\n",
      "../data/imagenet-mini/train/n03841143/n03841143_2841.JPEG\n",
      "../data/imagenet-mini/train/n03995372/n03995372_14826.JPEG\n",
      "../data/imagenet-mini/train/n03995372/n03995372_3603.JPEG\n",
      "../data/imagenet-mini/train/n03325584/n03325584_10730.JPEG\n",
      "../data/imagenet-mini/train/n03216828/n03216828_28729.JPEG\n",
      "../data/imagenet-mini/train/n03216828/n03216828_60705.JPEG\n",
      "../data/imagenet-mini/train/n03216828/n03216828_984.JPEG\n",
      "../data/imagenet-mini/train/n03063599/n03063599_4132.JPEG\n",
      "../data/imagenet-mini/train/n04179913/n04179913_11903.JPEG\n",
      "../data/imagenet-mini/train/n04044716/n04044716_1626.JPEG\n",
      "../data/imagenet-mini/train/n04044716/n04044716_6855.JPEG\n",
      "../data/imagenet-mini/train/n02091032/n02091032_12363.JPEG\n",
      "../data/imagenet-mini/train/n03384352/n03384352_8614.JPEG\n",
      "../data/imagenet-mini/train/n03388549/n03388549_5594.JPEG\n",
      "../data/imagenet-mini/train/n04372370/n04372370_25321.JPEG\n",
      "../data/imagenet-mini/train/n04372370/n04372370_21436.JPEG\n",
      "../data/imagenet-mini/train/n04372370/n04372370_42250.JPEG\n",
      "../data/imagenet-mini/train/n03857828/n03857828_28253.JPEG\n",
      "../data/imagenet-mini/train/n03857828/n03857828_7955.JPEG\n",
      "../data/imagenet-mini/train/n04380533/n04380533_17646.JPEG\n",
      "../data/imagenet-mini/train/n04380533/n04380533_5780.JPEG\n",
      "../data/imagenet-mini/train/n04485082/n04485082_2236.JPEG\n",
      "../data/imagenet-mini/train/n04485082/n04485082_60909.JPEG\n",
      "../data/imagenet-mini/train/n04485082/n04485082_14560.JPEG\n",
      "../data/imagenet-mini/train/n03627232/n03627232_5560.JPEG\n",
      "../data/imagenet-mini/train/n04251144/n04251144_20993.JPEG\n",
      "../data/imagenet-mini/train/n04523525/n04523525_2111.JPEG\n",
      "BW cleaning terminated.\n"
     ]
    }
   ],
   "source": [
    "clean_bw_imgs(\"./bigdata/imagenet-mini/train/\")"
   ]
  },
  {
   "cell_type": "markdown",
   "metadata": {},
   "source": [
    "You might want to work on a subset of tinyimagenet for computations reason."
   ]
  },
  {
   "cell_type": "code",
   "execution_count": 25,
   "metadata": {},
   "outputs": [
    {
     "name": "stdout",
     "output_type": "stream",
     "text": [
      "Progression:95.00%\n",
      "Sampling terminated.\n"
     ]
    }
   ],
   "source": [
    "sample_imagefolder(\"bigdata/imagenet-mini/train/\",\"static/data/imagenet10classes/images\",num_dir=20,img_num_per_dir=5)"
   ]
  },
  {
   "cell_type": "code",
   "execution_count": 18,
   "metadata": {
    "collapsed": true,
    "jupyter": {
     "outputs_hidden": true
    }
   },
   "outputs": [
    {
     "ename": "NameError",
     "evalue": "name 'pd' is not defined",
     "output_type": "error",
     "traceback": [
      "\u001b[0;31m---------------------------------------------------------------------------\u001b[0m",
      "\u001b[0;31mNameError\u001b[0m                                 Traceback (most recent call last)",
      "\u001b[0;32m<ipython-input-18-e624de582685>\u001b[0m in \u001b[0;36m<module>\u001b[0;34m\u001b[0m\n\u001b[0;32m----> 1\u001b[0;31m \u001b[0minfos\u001b[0m \u001b[0;34m=\u001b[0m \u001b[0mpd\u001b[0m\u001b[0;34m.\u001b[0m\u001b[0mread_csv\u001b[0m\u001b[0;34m(\u001b[0m\u001b[0;34m\"./bigdata/imagenet-mini/labels_imagenet.txt\"\u001b[0m\u001b[0;34m,\u001b[0m\u001b[0msep\u001b[0m\u001b[0;34m=\u001b[0m\u001b[0;34m\" \"\u001b[0m\u001b[0;34m,\u001b[0m\u001b[0mheader\u001b[0m\u001b[0;34m=\u001b[0m\u001b[0;32mNone\u001b[0m\u001b[0;34m)\u001b[0m\u001b[0;34m\u001b[0m\u001b[0;34m\u001b[0m\u001b[0m\n\u001b[0m\u001b[1;32m      2\u001b[0m \u001b[0mdic\u001b[0m \u001b[0;34m=\u001b[0m \u001b[0minfos\u001b[0m\u001b[0;34m.\u001b[0m\u001b[0mset_index\u001b[0m\u001b[0;34m(\u001b[0m\u001b[0;36m0\u001b[0m\u001b[0;34m)\u001b[0m\u001b[0;34m[\u001b[0m\u001b[0;36m1\u001b[0m\u001b[0;34m]\u001b[0m\u001b[0;34m.\u001b[0m\u001b[0mto_dict\u001b[0m\u001b[0;34m(\u001b[0m\u001b[0;34m)\u001b[0m\u001b[0;34m\u001b[0m\u001b[0;34m\u001b[0m\u001b[0m\n\u001b[1;32m      3\u001b[0m \u001b[0mrename_directories\u001b[0m\u001b[0;34m(\u001b[0m\u001b[0;34m'./data/imagenet10classes/images'\u001b[0m\u001b[0;34m,\u001b[0m\u001b[0mdic\u001b[0m\u001b[0;34m)\u001b[0m\u001b[0;34m\u001b[0m\u001b[0;34m\u001b[0m\u001b[0m\n",
      "\u001b[0;31mNameError\u001b[0m: name 'pd' is not defined"
     ]
    }
   ],
   "source": [
    "infos = pd.read_csv(\"./bigdata/imagenet-mini/labels_imagenet.txt\",sep=\" \",header=None)\n",
    "dic = infos.set_index(0)[1].to_dict()\n",
    "rename_directories('./data/imagenet10classes/images',dic)"
   ]
  },
  {
   "cell_type": "code",
   "execution_count": 19,
   "metadata": {},
   "outputs": [],
   "source": [
    "model = models.vgg16(pretrained=True)\n",
    "# same preprocess used as vgg16\n",
    "preprocess = transforms.Compose([\n",
    "    transforms.CenterCrop(224), \n",
    "    transforms.ToTensor()\n",
    "    ,transforms.Normalize(mean=[0.485, 0.456, 0.406], std=[0.229, 0.224, 0.225])\n",
    "])"
   ]
  },
  {
   "cell_type": "markdown",
   "metadata": {},
   "source": [
    "Run this cell if you want to create the information for the first time."
   ]
  },
  {
   "cell_type": "code",
   "execution_count": 23,
   "metadata": {},
   "outputs": [
    {
     "name": "stdout",
     "output_type": "stream",
     "text": [
      "json saving done!\n"
     ]
    }
   ],
   "source": [
    "#watch out: once you chose a folder name for the computed images and a json name, the json name will point to that folder name exclusively.\n",
    "lurker = Lurk(model,\n",
    "              preprocess,\n",
    "              save_gen_imgs_dir='./results/vgg16_imagenet/',\n",
    "              save_json_path='./saved_model/vgg16_imagenet.json',\n",
    "              imgs_src_dir=\"./data/imagenet10classes/images/\",\n",
    "              side_size=224)"
   ]
  },
  {
   "cell_type": "markdown",
   "metadata": {},
   "source": [
    "How to serve the website"
   ]
  },
  {
   "cell_type": "code",
   "execution_count": 16,
   "metadata": {
    "collapsed": true,
    "jupyter": {
     "outputs_hidden": true
    }
   },
   "outputs": [
    {
     "name": "stdout",
     "output_type": "stream",
     "text": [
      "Start!\n",
      " * Serving Flask app \"app\" (lazy loading)\n",
      " * Environment: production\n",
      "\u001b[31m   WARNING: This is a development server. Do not use it in a production deployment.\u001b[0m\n",
      "\u001b[2m   Use a production WSGI server instead.\u001b[0m\n",
      " * Debug mode: on\n"
     ]
    },
    {
     "name": "stderr",
     "output_type": "stream",
     "text": [
      " * Running on http://0.0.0.0:3000/ (Press CTRL+C to quit)\n",
      "127.0.0.1 - - [14/May/2020 11:47:20] \"\u001b[37mGET / HTTP/1.1\u001b[0m\" 200 -\n",
      "127.0.0.1 - - [14/May/2020 11:47:20] \"\u001b[37mGET /saved_model/.current.json?_=1589449640417 HTTP/1.1\u001b[0m\" 200 -\n",
      "127.0.0.1 - - [14/May/2020 11:47:20] \"\u001b[37mGET /saved_model/vgg16_imagenet.json?_=1589449640418 HTTP/1.1\u001b[0m\" 200 -\n",
      "127.0.0.1 - - [14/May/2020 11:47:20] \"\u001b[37mGET /saved_model/vgg16_imagenet.json?_=1589449640420 HTTP/1.1\u001b[0m\" 200 -\n",
      "127.0.0.1 - - [14/May/2020 11:47:20] \"\u001b[37mGET /saved_model/vgg16_imagenet.json?_=1589449640419 HTTP/1.1\u001b[0m\" 200 -\n",
      "127.0.0.1 - - [14/May/2020 11:47:20] \"\u001b[33mGET /static/data/numb.png HTTP/1.1\u001b[0m\" 404 -\n",
      "127.0.0.1 - - [14/May/2020 11:47:24] \"\u001b[37mGET /saved_model/vgg16_imagenet.json?_=1589449640421 HTTP/1.1\u001b[0m\" 200 -\n",
      "127.0.0.1 - - [14/May/2020 11:47:28] \"\u001b[37mGET /saved_model/vgg16_imagenet.json?_=1589449640422 HTTP/1.1\u001b[0m\" 200 -\n",
      "127.0.0.1 - - [14/May/2020 11:47:31] \"\u001b[37mGET / HTTP/1.1\u001b[0m\" 200 -\n",
      "127.0.0.1 - - [14/May/2020 11:47:31] \"\u001b[37mGET /saved_model/.current.json?_=1589449651840 HTTP/1.1\u001b[0m\" 200 -\n",
      "127.0.0.1 - - [14/May/2020 11:47:31] \"\u001b[37mGET /saved_model/vgg16_imagenet.json?_=1589449651841 HTTP/1.1\u001b[0m\" 200 -\n",
      "127.0.0.1 - - [14/May/2020 11:47:31] \"\u001b[37mGET /saved_model/vgg16_imagenet.json?_=1589449651842 HTTP/1.1\u001b[0m\" 200 -\n",
      "127.0.0.1 - - [14/May/2020 11:47:31] \"\u001b[37mGET /saved_model/vgg16_imagenet.json?_=1589449651843 HTTP/1.1\u001b[0m\" 200 -\n",
      "127.0.0.1 - - [14/May/2020 11:47:32] \"\u001b[33mGET /static/data/numb.png HTTP/1.1\u001b[0m\" 404 -\n",
      "127.0.0.1 - - [14/May/2020 11:47:32] \"\u001b[37mGET / HTTP/1.1\u001b[0m\" 200 -\n",
      "127.0.0.1 - - [14/May/2020 11:47:33] \"\u001b[37mGET /saved_model/.current.json?_=1589449653015 HTTP/1.1\u001b[0m\" 200 -\n",
      "127.0.0.1 - - [14/May/2020 11:47:33] \"\u001b[37mGET /saved_model/vgg16_imagenet.json?_=1589449653016 HTTP/1.1\u001b[0m\" 200 -\n",
      "127.0.0.1 - - [14/May/2020 11:47:33] \"\u001b[37mGET /saved_model/vgg16_imagenet.json?_=1589449653018 HTTP/1.1\u001b[0m\" 200 -\n",
      "127.0.0.1 - - [14/May/2020 11:47:33] \"\u001b[37mGET /saved_model/vgg16_imagenet.json?_=1589449653017 HTTP/1.1\u001b[0m\" 200 -\n",
      "127.0.0.1 - - [14/May/2020 11:47:33] \"\u001b[33mGET /static/data/numb.png HTTP/1.1\u001b[0m\" 404 -\n",
      "127.0.0.1 - - [14/May/2020 11:47:37] \"\u001b[37mGET /saved_model/vgg16_imagenet.json?_=1589449653019 HTTP/1.1\u001b[0m\" 200 -\n",
      "127.0.0.1 - - [14/May/2020 11:47:41] \"\u001b[37mGET /saved_model/vgg16_imagenet.json?_=1589449653020 HTTP/1.1\u001b[0m\" 200 -\n",
      "127.0.0.1 - - [14/May/2020 11:47:45] \"\u001b[37mGET /saved_model/vgg16_imagenet.json?_=1589449653021 HTTP/1.1\u001b[0m\" 200 -\n",
      "127.0.0.1 - - [14/May/2020 11:47:49] \"\u001b[37mGET /saved_model/vgg16_imagenet.json?_=1589449653022 HTTP/1.1\u001b[0m\" 200 -\n",
      "127.0.0.1 - - [14/May/2020 11:47:53] \"\u001b[37mGET /saved_model/vgg16_imagenet.json?_=1589449653023 HTTP/1.1\u001b[0m\" 200 -\n"
     ]
    }
   ],
   "source": [
    "lurker.serve(3000)"
   ]
  },
  {
   "cell_type": "code",
   "execution_count": 17,
   "metadata": {},
   "outputs": [],
   "source": [
    "lurker.end_serve()"
   ]
  },
  {
   "cell_type": "markdown",
   "metadata": {},
   "source": [
    "How to save/load the lurker in a convenient manner.. \\[OPTIONNAL\\]"
   ]
  },
  {
   "cell_type": "code",
   "execution_count": 21,
   "metadata": {},
   "outputs": [
    {
     "name": "stdout",
     "output_type": "stream",
     "text": [
      "dill saving done!\n"
     ]
    }
   ],
   "source": [
    "lurker.save_to_dill(\"./generated/vgg16_imagenet.pickle\")"
   ]
  },
  {
   "cell_type": "code",
   "execution_count": 24,
   "metadata": {},
   "outputs": [
    {
     "name": "stdout",
     "output_type": "stream",
     "text": [
      "Loading done!\n"
     ]
    }
   ],
   "source": [
    "lurker = Lurk.load_from_dill(\"./generated/vgg16_imagenet.pickle\")"
   ]
  },
  {
   "cell_type": "markdown",
   "metadata": {},
   "source": [
    "## Computations"
   ]
  },
  {
   "cell_type": "markdown",
   "metadata": {},
   "source": [
    "We compute the average/maximum activation images from the train set:"
   ]
  },
  {
   "cell_type": "code",
   "execution_count": 25,
   "metadata": {},
   "outputs": [
    {
     "name": "stdout",
     "output_type": "stream",
     "text": [
      "json saving done!\n"
     ]
    }
   ],
   "source": [
    "lurker.compute_top_imgs()"
   ]
  },
  {
   "cell_type": "markdown",
   "metadata": {},
   "source": [
    "And plot the \"most activating\" classes w.r.t a metric(max or avg) for a given filter"
   ]
  },
  {
   "cell_type": "code",
   "execution_count": 26,
   "metadata": {
    "collapsed": true,
    "jupyter": {
     "outputs_hidden": true
    }
   },
   "outputs": [
    {
     "data": {
      "image/png": "[encoded data removed]",
      "text/plain": [
       "<Figure size 720x1440 with 1 Axes>"
      ]
     },
     "metadata": {
      "needs_background": "light"
     },
     "output_type": "display_data"
    }
   ],
   "source": [
    "lurker.plot_hist(0,0,\"max\")"
   ]
  },
  {
   "cell_type": "markdown",
   "metadata": {},
   "source": [
    "Possibility to compute the layer visualization:"
   ]
  },
  {
   "cell_type": "code",
   "execution_count": 28,
   "metadata": {},
   "outputs": [
    {
     "name": "stdout",
     "output_type": "stream",
     "text": [
      "Filter 1 / 1\n",
      "Vis saved!\n",
      "json saving done!\n",
      "Visualization done!\n",
      "json saving done!\n"
     ]
    }
   ],
   "source": [
    "lurker.compute_layer_viz(layer_indx = 0,filter_indexes=[12,7])"
   ]
  },
  {
   "cell_type": "markdown",
   "metadata": {},
   "source": [
    "And the respective gradients w.r.t the most activating images"
   ]
  },
  {
   "cell_type": "code",
   "execution_count": 29,
   "metadata": {},
   "outputs": [
    {
     "name": "stdout",
     "output_type": "stream",
     "text": [
      "Grads Progression:layer1/1 100.0%\n"
     ]
    }
   ],
   "source": [
    "lurker.compute_grads()"
   ]
  },
  {
   "cell_type": "markdown",
   "metadata": {},
   "source": [
    "If you wish to load a precomputed json, just add the `load_path` attribute. Watch out, it needs to be coherent with the folder name.\\[OPTIONNAL\\]"
   ]
  },
  {
   "cell_type": "code",
   "execution_count": 30,
   "metadata": {},
   "outputs": [
    {
     "name": "stdout",
     "output_type": "stream",
     "text": [
      "Loading done!\n"
     ]
    }
   ],
   "source": [
    "lurker3 = Lurk(model,\n",
    "               preprocess,\n",
    "               save_gen_imgs_dir='./results/trash/',\n",
    "               save_json_path='./saved_model/new_vgg16.json',\n",
    "               imgs_src_dir=\"./data/imagenet10classes/images\",\n",
    "               load_json_path='./saved_model/vgg16_imagenet.json',\n",
    "               side_size=224)"
   ]
  },
  {
   "cell_type": "markdown",
   "metadata": {},
   "source": [
    "# Places365"
   ]
  },
  {
   "cell_type": "markdown",
   "metadata": {},
   "source": [
    "Download of the images possible on http://places2.csail.mit.edu/download.html"
   ]
  },
  {
   "cell_type": "code",
   "execution_count": 37,
   "metadata": {},
   "outputs": [
    {
     "name": "stdout",
     "output_type": "stream",
     "text": [
      "Progression:99.73%\n",
      "Sampling terminated.\n"
     ]
    }
   ],
   "source": [
    "sample_imagefolder(\"./bigdata/Places365/val/\",\"./data/places365/images\",num_dir=365,img_num_per_dir=5)"
   ]
  },
  {
   "cell_type": "code",
   "execution_count": null,
   "metadata": {},
   "outputs": [],
   "source": [
    "create_labels(places_dataset.class_to_idx,\"./data/places365/\")"
   ]
  },
  {
   "cell_type": "code",
   "execution_count": 13,
   "metadata": {},
   "outputs": [],
   "source": [
    "alex_places = get_alex_places()"
   ]
  },
  {
   "cell_type": "code",
   "execution_count": 14,
   "metadata": {},
   "outputs": [],
   "source": [
    "places_preprocess = transforms.Compose([\n",
    "        transforms.Resize((256,256)),\n",
    "        transforms.CenterCrop(224),\n",
    "        transforms.ToTensor(),\n",
    "        transforms.Normalize([0.485, 0.456, 0.406], [0.229, 0.224, 0.225])\n",
    "])"
   ]
  },
  {
   "cell_type": "code",
   "execution_count": 15,
   "metadata": {},
   "outputs": [
    {
     "name": "stdout",
     "output_type": "stream",
     "text": [
      "json saving done!\n"
     ]
    }
   ],
   "source": [
    "lurker_alex_places = Lurk(alex_places\n",
    "                          ,places_preprocess\n",
    "                          ,save_gen_imgs_dir='./results/alex_places/'\n",
    "                          ,save_json_path='saved_model/alex_places.json'\n",
    "                          ,imgs_src_dir=\"./data/places365/images/\"\n",
    "                          ,side_size=224)"
   ]
  },
  {
   "cell_type": "code",
   "execution_count": 20,
   "metadata": {},
   "outputs": [],
   "source": [
    "lurker_alex_places.serve()"
   ]
  },
  {
   "cell_type": "code",
   "execution_count": 24,
   "metadata": {},
   "outputs": [],
   "source": [
    "lurker_alex_places.end_serve()"
   ]
  },
  {
   "cell_type": "code",
   "execution_count": 17,
   "metadata": {
    "collapsed": true,
    "jupyter": {
     "outputs_hidden": true
    }
   },
   "outputs": [
    {
     "ename": "KeyboardInterrupt",
     "evalue": "",
     "output_type": "error",
     "traceback": [
      "\u001b[0;31m---------------------------------------------------------------------------\u001b[0m",
      "\u001b[0;31mKeyboardInterrupt\u001b[0m                         Traceback (most recent call last)",
      "\u001b[0;32m<ipython-input-17-53f413933aeb>\u001b[0m in \u001b[0;36m<module>\u001b[0;34m\u001b[0m\n\u001b[0;32m----> 1\u001b[0;31m \u001b[0mlurker_alex_places\u001b[0m\u001b[0;34m.\u001b[0m\u001b[0mcompute_top_imgs\u001b[0m\u001b[0;34m(\u001b[0m\u001b[0;34m)\u001b[0m\u001b[0;34m\u001b[0m\u001b[0;34m\u001b[0m\u001b[0m\n\u001b[0m",
      "\u001b[0;32m<ipython-input-12-b5aa38118913>\u001b[0m in \u001b[0;36mcompute_top_imgs\u001b[0;34m(self, verbose, compute_max, compute_avg, save_loc)\u001b[0m\n\u001b[1;32m    290\u001b[0m                 \u001b[0;32mif\u001b[0m \u001b[0;34m(\u001b[0m\u001b[0mt_now\u001b[0m \u001b[0;34m-\u001b[0m \u001b[0mt_start\u001b[0m \u001b[0;34m>\u001b[0m \u001b[0;36m5\u001b[0m\u001b[0;34m)\u001b[0m\u001b[0;34m:\u001b[0m\u001b[0;34m\u001b[0m\u001b[0;34m\u001b[0m\u001b[0m\n\u001b[1;32m    291\u001b[0m                     \u001b[0mt_start\u001b[0m \u001b[0;34m=\u001b[0m \u001b[0mt_now\u001b[0m\u001b[0;34m\u001b[0m\u001b[0;34m\u001b[0m\u001b[0m\n\u001b[0;32m--> 292\u001b[0;31m                     \u001b[0mself\u001b[0m\u001b[0;34m.\u001b[0m\u001b[0msave_to_json\u001b[0m\u001b[0;34m(\u001b[0m\u001b[0;34m)\u001b[0m\u001b[0;34m\u001b[0m\u001b[0;34m\u001b[0m\u001b[0m\n\u001b[0m\u001b[1;32m    293\u001b[0m \u001b[0;34m\u001b[0m\u001b[0m\n\u001b[1;32m    294\u001b[0m         \u001b[0mself\u001b[0m\u001b[0;34m.\u001b[0m\u001b[0m__normalize_histos\u001b[0m\u001b[0;34m(\u001b[0m\u001b[0;34m)\u001b[0m\u001b[0;34m\u001b[0m\u001b[0;34m\u001b[0m\u001b[0m\n",
      "\u001b[0;32m<ipython-input-12-b5aa38118913>\u001b[0m in \u001b[0;36msave_to_json\u001b[0;34m(self)\u001b[0m\n\u001b[1;32m    146\u001b[0m         \u001b[0;32mwith\u001b[0m \u001b[0mopen\u001b[0m\u001b[0;34m(\u001b[0m\u001b[0;34m\"saved_model/.current.json\"\u001b[0m\u001b[0;34m,\u001b[0m \u001b[0;34m'w'\u001b[0m\u001b[0;34m)\u001b[0m \u001b[0;32mas\u001b[0m \u001b[0mf\u001b[0m\u001b[0;34m:\u001b[0m\u001b[0;34m\u001b[0m\u001b[0;34m\u001b[0m\u001b[0m\n\u001b[1;32m    147\u001b[0m             \u001b[0mjson\u001b[0m\u001b[0;34m.\u001b[0m\u001b[0mdump\u001b[0m\u001b[0;34m(\u001b[0m\u001b[0mobj\u001b[0m\u001b[0;34m,\u001b[0m \u001b[0mf\u001b[0m\u001b[0;34m,\u001b[0m \u001b[0mindent\u001b[0m \u001b[0;34m=\u001b[0m \u001b[0;36m2\u001b[0m\u001b[0;34m)\u001b[0m\u001b[0;34m\u001b[0m\u001b[0;34m\u001b[0m\u001b[0m\n\u001b[0;32m--> 148\u001b[0;31m         \u001b[0mmodel_info2\u001b[0m \u001b[0;34m=\u001b[0m \u001b[0mdeepcopy\u001b[0m\u001b[0;34m(\u001b[0m\u001b[0mself\u001b[0m\u001b[0;34m.\u001b[0m\u001b[0mmodel_info\u001b[0m\u001b[0;34m)\u001b[0m\u001b[0;34m\u001b[0m\u001b[0;34m\u001b[0m\u001b[0m\n\u001b[0m\u001b[1;32m    149\u001b[0m         \u001b[0;32mfor\u001b[0m \u001b[0mlay_info\u001b[0m \u001b[0;32min\u001b[0m \u001b[0mmodel_info2\u001b[0m\u001b[0;34m:\u001b[0m\u001b[0;34m\u001b[0m\u001b[0;34m\u001b[0m\u001b[0m\n\u001b[1;32m    150\u001b[0m             \u001b[0;32mif\u001b[0m \u001b[0;34m(\u001b[0m\u001b[0misinstance\u001b[0m\u001b[0;34m(\u001b[0m\u001b[0mlay_info\u001b[0m\u001b[0;34m[\u001b[0m\u001b[0;34m'lay'\u001b[0m\u001b[0;34m]\u001b[0m\u001b[0;34m,\u001b[0m\u001b[0mnn\u001b[0m\u001b[0;34m.\u001b[0m\u001b[0mConv2d\u001b[0m\u001b[0;34m)\u001b[0m\u001b[0;34m)\u001b[0m\u001b[0;34m:\u001b[0m\u001b[0;34m\u001b[0m\u001b[0;34m\u001b[0m\u001b[0m\n",
      "\u001b[0;32m~/anaconda3/envs/ML/lib/python3.7/copy.py\u001b[0m in \u001b[0;36mdeepcopy\u001b[0;34m(x, memo, _nil)\u001b[0m\n\u001b[1;32m    148\u001b[0m     \u001b[0mcopier\u001b[0m \u001b[0;34m=\u001b[0m \u001b[0m_deepcopy_dispatch\u001b[0m\u001b[0;34m.\u001b[0m\u001b[0mget\u001b[0m\u001b[0;34m(\u001b[0m\u001b[0mcls\u001b[0m\u001b[0;34m)\u001b[0m\u001b[0;34m\u001b[0m\u001b[0;34m\u001b[0m\u001b[0m\n\u001b[1;32m    149\u001b[0m     \u001b[0;32mif\u001b[0m \u001b[0mcopier\u001b[0m\u001b[0;34m:\u001b[0m\u001b[0;34m\u001b[0m\u001b[0;34m\u001b[0m\u001b[0m\n\u001b[0;32m--> 150\u001b[0;31m         \u001b[0my\u001b[0m \u001b[0;34m=\u001b[0m \u001b[0mcopier\u001b[0m\u001b[0;34m(\u001b[0m\u001b[0mx\u001b[0m\u001b[0;34m,\u001b[0m \u001b[0mmemo\u001b[0m\u001b[0;34m)\u001b[0m\u001b[0;34m\u001b[0m\u001b[0;34m\u001b[0m\u001b[0m\n\u001b[0m\u001b[1;32m    151\u001b[0m     \u001b[0;32melse\u001b[0m\u001b[0;34m:\u001b[0m\u001b[0;34m\u001b[0m\u001b[0;34m\u001b[0m\u001b[0m\n\u001b[1;32m    152\u001b[0m         \u001b[0;32mtry\u001b[0m\u001b[0;34m:\u001b[0m\u001b[0;34m\u001b[0m\u001b[0;34m\u001b[0m\u001b[0m\n",
      "\u001b[0;32m~/anaconda3/envs/ML/lib/python3.7/copy.py\u001b[0m in \u001b[0;36m_deepcopy_list\u001b[0;34m(x, memo, deepcopy)\u001b[0m\n\u001b[1;32m    213\u001b[0m     \u001b[0mappend\u001b[0m \u001b[0;34m=\u001b[0m \u001b[0my\u001b[0m\u001b[0;34m.\u001b[0m\u001b[0mappend\u001b[0m\u001b[0;34m\u001b[0m\u001b[0;34m\u001b[0m\u001b[0m\n\u001b[1;32m    214\u001b[0m     \u001b[0;32mfor\u001b[0m \u001b[0ma\u001b[0m \u001b[0;32min\u001b[0m \u001b[0mx\u001b[0m\u001b[0;34m:\u001b[0m\u001b[0;34m\u001b[0m\u001b[0;34m\u001b[0m\u001b[0m\n\u001b[0;32m--> 215\u001b[0;31m         \u001b[0mappend\u001b[0m\u001b[0;34m(\u001b[0m\u001b[0mdeepcopy\u001b[0m\u001b[0;34m(\u001b[0m\u001b[0ma\u001b[0m\u001b[0;34m,\u001b[0m \u001b[0mmemo\u001b[0m\u001b[0;34m)\u001b[0m\u001b[0;34m)\u001b[0m\u001b[0;34m\u001b[0m\u001b[0;34m\u001b[0m\u001b[0m\n\u001b[0m\u001b[1;32m    216\u001b[0m     \u001b[0;32mreturn\u001b[0m \u001b[0my\u001b[0m\u001b[0;34m\u001b[0m\u001b[0;34m\u001b[0m\u001b[0m\n\u001b[1;32m    217\u001b[0m \u001b[0md\u001b[0m\u001b[0;34m[\u001b[0m\u001b[0mlist\u001b[0m\u001b[0;34m]\u001b[0m \u001b[0;34m=\u001b[0m \u001b[0m_deepcopy_list\u001b[0m\u001b[0;34m\u001b[0m\u001b[0;34m\u001b[0m\u001b[0m\n",
      "\u001b[0;32m~/anaconda3/envs/ML/lib/python3.7/copy.py\u001b[0m in \u001b[0;36mdeepcopy\u001b[0;34m(x, memo, _nil)\u001b[0m\n\u001b[1;32m    148\u001b[0m     \u001b[0mcopier\u001b[0m \u001b[0;34m=\u001b[0m \u001b[0m_deepcopy_dispatch\u001b[0m\u001b[0;34m.\u001b[0m\u001b[0mget\u001b[0m\u001b[0;34m(\u001b[0m\u001b[0mcls\u001b[0m\u001b[0;34m)\u001b[0m\u001b[0;34m\u001b[0m\u001b[0;34m\u001b[0m\u001b[0m\n\u001b[1;32m    149\u001b[0m     \u001b[0;32mif\u001b[0m \u001b[0mcopier\u001b[0m\u001b[0;34m:\u001b[0m\u001b[0;34m\u001b[0m\u001b[0;34m\u001b[0m\u001b[0m\n\u001b[0;32m--> 150\u001b[0;31m         \u001b[0my\u001b[0m \u001b[0;34m=\u001b[0m \u001b[0mcopier\u001b[0m\u001b[0;34m(\u001b[0m\u001b[0mx\u001b[0m\u001b[0;34m,\u001b[0m \u001b[0mmemo\u001b[0m\u001b[0;34m)\u001b[0m\u001b[0;34m\u001b[0m\u001b[0;34m\u001b[0m\u001b[0m\n\u001b[0m\u001b[1;32m    151\u001b[0m     \u001b[0;32melse\u001b[0m\u001b[0;34m:\u001b[0m\u001b[0;34m\u001b[0m\u001b[0;34m\u001b[0m\u001b[0m\n\u001b[1;32m    152\u001b[0m         \u001b[0;32mtry\u001b[0m\u001b[0;34m:\u001b[0m\u001b[0;34m\u001b[0m\u001b[0;34m\u001b[0m\u001b[0m\n",
      "\u001b[0;32m~/anaconda3/envs/ML/lib/python3.7/copy.py\u001b[0m in \u001b[0;36m_deepcopy_dict\u001b[0;34m(x, memo, deepcopy)\u001b[0m\n\u001b[1;32m    238\u001b[0m     \u001b[0mmemo\u001b[0m\u001b[0;34m[\u001b[0m\u001b[0mid\u001b[0m\u001b[0;34m(\u001b[0m\u001b[0mx\u001b[0m\u001b[0;34m)\u001b[0m\u001b[0;34m]\u001b[0m \u001b[0;34m=\u001b[0m \u001b[0my\u001b[0m\u001b[0;34m\u001b[0m\u001b[0;34m\u001b[0m\u001b[0m\n\u001b[1;32m    239\u001b[0m     \u001b[0;32mfor\u001b[0m \u001b[0mkey\u001b[0m\u001b[0;34m,\u001b[0m \u001b[0mvalue\u001b[0m \u001b[0;32min\u001b[0m \u001b[0mx\u001b[0m\u001b[0;34m.\u001b[0m\u001b[0mitems\u001b[0m\u001b[0;34m(\u001b[0m\u001b[0;34m)\u001b[0m\u001b[0;34m:\u001b[0m\u001b[0;34m\u001b[0m\u001b[0;34m\u001b[0m\u001b[0m\n\u001b[0;32m--> 240\u001b[0;31m         \u001b[0my\u001b[0m\u001b[0;34m[\u001b[0m\u001b[0mdeepcopy\u001b[0m\u001b[0;34m(\u001b[0m\u001b[0mkey\u001b[0m\u001b[0;34m,\u001b[0m \u001b[0mmemo\u001b[0m\u001b[0;34m)\u001b[0m\u001b[0;34m]\u001b[0m \u001b[0;34m=\u001b[0m \u001b[0mdeepcopy\u001b[0m\u001b[0;34m(\u001b[0m\u001b[0mvalue\u001b[0m\u001b[0;34m,\u001b[0m \u001b[0mmemo\u001b[0m\u001b[0;34m)\u001b[0m\u001b[0;34m\u001b[0m\u001b[0;34m\u001b[0m\u001b[0m\n\u001b[0m\u001b[1;32m    241\u001b[0m     \u001b[0;32mreturn\u001b[0m \u001b[0my\u001b[0m\u001b[0;34m\u001b[0m\u001b[0;34m\u001b[0m\u001b[0m\n\u001b[1;32m    242\u001b[0m \u001b[0md\u001b[0m\u001b[0;34m[\u001b[0m\u001b[0mdict\u001b[0m\u001b[0;34m]\u001b[0m \u001b[0;34m=\u001b[0m \u001b[0m_deepcopy_dict\u001b[0m\u001b[0;34m\u001b[0m\u001b[0;34m\u001b[0m\u001b[0m\n",
      "\u001b[0;32m~/anaconda3/envs/ML/lib/python3.7/copy.py\u001b[0m in \u001b[0;36mdeepcopy\u001b[0;34m(x, memo, _nil)\u001b[0m\n\u001b[1;32m    148\u001b[0m     \u001b[0mcopier\u001b[0m \u001b[0;34m=\u001b[0m \u001b[0m_deepcopy_dispatch\u001b[0m\u001b[0;34m.\u001b[0m\u001b[0mget\u001b[0m\u001b[0;34m(\u001b[0m\u001b[0mcls\u001b[0m\u001b[0;34m)\u001b[0m\u001b[0;34m\u001b[0m\u001b[0;34m\u001b[0m\u001b[0m\n\u001b[1;32m    149\u001b[0m     \u001b[0;32mif\u001b[0m \u001b[0mcopier\u001b[0m\u001b[0;34m:\u001b[0m\u001b[0;34m\u001b[0m\u001b[0;34m\u001b[0m\u001b[0m\n\u001b[0;32m--> 150\u001b[0;31m         \u001b[0my\u001b[0m \u001b[0;34m=\u001b[0m \u001b[0mcopier\u001b[0m\u001b[0;34m(\u001b[0m\u001b[0mx\u001b[0m\u001b[0;34m,\u001b[0m \u001b[0mmemo\u001b[0m\u001b[0;34m)\u001b[0m\u001b[0;34m\u001b[0m\u001b[0;34m\u001b[0m\u001b[0m\n\u001b[0m\u001b[1;32m    151\u001b[0m     \u001b[0;32melse\u001b[0m\u001b[0;34m:\u001b[0m\u001b[0;34m\u001b[0m\u001b[0;34m\u001b[0m\u001b[0m\n\u001b[1;32m    152\u001b[0m         \u001b[0;32mtry\u001b[0m\u001b[0;34m:\u001b[0m\u001b[0;34m\u001b[0m\u001b[0;34m\u001b[0m\u001b[0m\n",
      "\u001b[0;32m~/anaconda3/envs/ML/lib/python3.7/copy.py\u001b[0m in \u001b[0;36m_deepcopy_list\u001b[0;34m(x, memo, deepcopy)\u001b[0m\n\u001b[1;32m    213\u001b[0m     \u001b[0mappend\u001b[0m \u001b[0;34m=\u001b[0m \u001b[0my\u001b[0m\u001b[0;34m.\u001b[0m\u001b[0mappend\u001b[0m\u001b[0;34m\u001b[0m\u001b[0;34m\u001b[0m\u001b[0m\n\u001b[1;32m    214\u001b[0m     \u001b[0;32mfor\u001b[0m \u001b[0ma\u001b[0m \u001b[0;32min\u001b[0m \u001b[0mx\u001b[0m\u001b[0;34m:\u001b[0m\u001b[0;34m\u001b[0m\u001b[0;34m\u001b[0m\u001b[0m\n\u001b[0;32m--> 215\u001b[0;31m         \u001b[0mappend\u001b[0m\u001b[0;34m(\u001b[0m\u001b[0mdeepcopy\u001b[0m\u001b[0;34m(\u001b[0m\u001b[0ma\u001b[0m\u001b[0;34m,\u001b[0m \u001b[0mmemo\u001b[0m\u001b[0;34m)\u001b[0m\u001b[0;34m)\u001b[0m\u001b[0;34m\u001b[0m\u001b[0;34m\u001b[0m\u001b[0m\n\u001b[0m\u001b[1;32m    216\u001b[0m     \u001b[0;32mreturn\u001b[0m \u001b[0my\u001b[0m\u001b[0;34m\u001b[0m\u001b[0;34m\u001b[0m\u001b[0m\n\u001b[1;32m    217\u001b[0m \u001b[0md\u001b[0m\u001b[0;34m[\u001b[0m\u001b[0mlist\u001b[0m\u001b[0;34m]\u001b[0m \u001b[0;34m=\u001b[0m \u001b[0m_deepcopy_list\u001b[0m\u001b[0;34m\u001b[0m\u001b[0;34m\u001b[0m\u001b[0m\n",
      "\u001b[0;32m~/anaconda3/envs/ML/lib/python3.7/copy.py\u001b[0m in \u001b[0;36mdeepcopy\u001b[0;34m(x, memo, _nil)\u001b[0m\n\u001b[1;32m    148\u001b[0m     \u001b[0mcopier\u001b[0m \u001b[0;34m=\u001b[0m \u001b[0m_deepcopy_dispatch\u001b[0m\u001b[0;34m.\u001b[0m\u001b[0mget\u001b[0m\u001b[0;34m(\u001b[0m\u001b[0mcls\u001b[0m\u001b[0;34m)\u001b[0m\u001b[0;34m\u001b[0m\u001b[0;34m\u001b[0m\u001b[0m\n\u001b[1;32m    149\u001b[0m     \u001b[0;32mif\u001b[0m \u001b[0mcopier\u001b[0m\u001b[0;34m:\u001b[0m\u001b[0;34m\u001b[0m\u001b[0;34m\u001b[0m\u001b[0m\n\u001b[0;32m--> 150\u001b[0;31m         \u001b[0my\u001b[0m \u001b[0;34m=\u001b[0m \u001b[0mcopier\u001b[0m\u001b[0;34m(\u001b[0m\u001b[0mx\u001b[0m\u001b[0;34m,\u001b[0m \u001b[0mmemo\u001b[0m\u001b[0;34m)\u001b[0m\u001b[0;34m\u001b[0m\u001b[0;34m\u001b[0m\u001b[0m\n\u001b[0m\u001b[1;32m    151\u001b[0m     \u001b[0;32melse\u001b[0m\u001b[0;34m:\u001b[0m\u001b[0;34m\u001b[0m\u001b[0;34m\u001b[0m\u001b[0m\n\u001b[1;32m    152\u001b[0m         \u001b[0;32mtry\u001b[0m\u001b[0;34m:\u001b[0m\u001b[0;34m\u001b[0m\u001b[0;34m\u001b[0m\u001b[0m\n",
      "\u001b[0;32m~/anaconda3/envs/ML/lib/python3.7/copy.py\u001b[0m in \u001b[0;36m_deepcopy_dict\u001b[0;34m(x, memo, deepcopy)\u001b[0m\n\u001b[1;32m    238\u001b[0m     \u001b[0mmemo\u001b[0m\u001b[0;34m[\u001b[0m\u001b[0mid\u001b[0m\u001b[0;34m(\u001b[0m\u001b[0mx\u001b[0m\u001b[0;34m)\u001b[0m\u001b[0;34m]\u001b[0m \u001b[0;34m=\u001b[0m \u001b[0my\u001b[0m\u001b[0;34m\u001b[0m\u001b[0;34m\u001b[0m\u001b[0m\n\u001b[1;32m    239\u001b[0m     \u001b[0;32mfor\u001b[0m \u001b[0mkey\u001b[0m\u001b[0;34m,\u001b[0m \u001b[0mvalue\u001b[0m \u001b[0;32min\u001b[0m \u001b[0mx\u001b[0m\u001b[0;34m.\u001b[0m\u001b[0mitems\u001b[0m\u001b[0;34m(\u001b[0m\u001b[0;34m)\u001b[0m\u001b[0;34m:\u001b[0m\u001b[0;34m\u001b[0m\u001b[0;34m\u001b[0m\u001b[0m\n\u001b[0;32m--> 240\u001b[0;31m         \u001b[0my\u001b[0m\u001b[0;34m[\u001b[0m\u001b[0mdeepcopy\u001b[0m\u001b[0;34m(\u001b[0m\u001b[0mkey\u001b[0m\u001b[0;34m,\u001b[0m \u001b[0mmemo\u001b[0m\u001b[0;34m)\u001b[0m\u001b[0;34m]\u001b[0m \u001b[0;34m=\u001b[0m \u001b[0mdeepcopy\u001b[0m\u001b[0;34m(\u001b[0m\u001b[0mvalue\u001b[0m\u001b[0;34m,\u001b[0m \u001b[0mmemo\u001b[0m\u001b[0;34m)\u001b[0m\u001b[0;34m\u001b[0m\u001b[0;34m\u001b[0m\u001b[0m\n\u001b[0m\u001b[1;32m    241\u001b[0m     \u001b[0;32mreturn\u001b[0m \u001b[0my\u001b[0m\u001b[0;34m\u001b[0m\u001b[0;34m\u001b[0m\u001b[0m\n\u001b[1;32m    242\u001b[0m \u001b[0md\u001b[0m\u001b[0;34m[\u001b[0m\u001b[0mdict\u001b[0m\u001b[0;34m]\u001b[0m \u001b[0;34m=\u001b[0m \u001b[0m_deepcopy_dict\u001b[0m\u001b[0;34m\u001b[0m\u001b[0;34m\u001b[0m\u001b[0m\n",
      "\u001b[0;32m~/anaconda3/envs/ML/lib/python3.7/copy.py\u001b[0m in \u001b[0;36mdeepcopy\u001b[0;34m(x, memo, _nil)\u001b[0m\n\u001b[1;32m    148\u001b[0m     \u001b[0mcopier\u001b[0m \u001b[0;34m=\u001b[0m \u001b[0m_deepcopy_dispatch\u001b[0m\u001b[0;34m.\u001b[0m\u001b[0mget\u001b[0m\u001b[0;34m(\u001b[0m\u001b[0mcls\u001b[0m\u001b[0;34m)\u001b[0m\u001b[0;34m\u001b[0m\u001b[0;34m\u001b[0m\u001b[0m\n\u001b[1;32m    149\u001b[0m     \u001b[0;32mif\u001b[0m \u001b[0mcopier\u001b[0m\u001b[0;34m:\u001b[0m\u001b[0;34m\u001b[0m\u001b[0;34m\u001b[0m\u001b[0m\n\u001b[0;32m--> 150\u001b[0;31m         \u001b[0my\u001b[0m \u001b[0;34m=\u001b[0m \u001b[0mcopier\u001b[0m\u001b[0;34m(\u001b[0m\u001b[0mx\u001b[0m\u001b[0;34m,\u001b[0m \u001b[0mmemo\u001b[0m\u001b[0;34m)\u001b[0m\u001b[0;34m\u001b[0m\u001b[0;34m\u001b[0m\u001b[0m\n\u001b[0m\u001b[1;32m    151\u001b[0m     \u001b[0;32melse\u001b[0m\u001b[0;34m:\u001b[0m\u001b[0;34m\u001b[0m\u001b[0;34m\u001b[0m\u001b[0m\n\u001b[1;32m    152\u001b[0m         \u001b[0;32mtry\u001b[0m\u001b[0;34m:\u001b[0m\u001b[0;34m\u001b[0m\u001b[0;34m\u001b[0m\u001b[0m\n",
      "\u001b[0;32m~/anaconda3/envs/ML/lib/python3.7/copy.py\u001b[0m in \u001b[0;36m_deepcopy_dict\u001b[0;34m(x, memo, deepcopy)\u001b[0m\n\u001b[1;32m    238\u001b[0m     \u001b[0mmemo\u001b[0m\u001b[0;34m[\u001b[0m\u001b[0mid\u001b[0m\u001b[0;34m(\u001b[0m\u001b[0mx\u001b[0m\u001b[0;34m)\u001b[0m\u001b[0;34m]\u001b[0m \u001b[0;34m=\u001b[0m \u001b[0my\u001b[0m\u001b[0;34m\u001b[0m\u001b[0;34m\u001b[0m\u001b[0m\n\u001b[1;32m    239\u001b[0m     \u001b[0;32mfor\u001b[0m \u001b[0mkey\u001b[0m\u001b[0;34m,\u001b[0m \u001b[0mvalue\u001b[0m \u001b[0;32min\u001b[0m \u001b[0mx\u001b[0m\u001b[0;34m.\u001b[0m\u001b[0mitems\u001b[0m\u001b[0;34m(\u001b[0m\u001b[0;34m)\u001b[0m\u001b[0;34m:\u001b[0m\u001b[0;34m\u001b[0m\u001b[0;34m\u001b[0m\u001b[0m\n\u001b[0;32m--> 240\u001b[0;31m         \u001b[0my\u001b[0m\u001b[0;34m[\u001b[0m\u001b[0mdeepcopy\u001b[0m\u001b[0;34m(\u001b[0m\u001b[0mkey\u001b[0m\u001b[0;34m,\u001b[0m \u001b[0mmemo\u001b[0m\u001b[0;34m)\u001b[0m\u001b[0;34m]\u001b[0m \u001b[0;34m=\u001b[0m \u001b[0mdeepcopy\u001b[0m\u001b[0;34m(\u001b[0m\u001b[0mvalue\u001b[0m\u001b[0;34m,\u001b[0m \u001b[0mmemo\u001b[0m\u001b[0;34m)\u001b[0m\u001b[0;34m\u001b[0m\u001b[0;34m\u001b[0m\u001b[0m\n\u001b[0m\u001b[1;32m    241\u001b[0m     \u001b[0;32mreturn\u001b[0m \u001b[0my\u001b[0m\u001b[0;34m\u001b[0m\u001b[0;34m\u001b[0m\u001b[0m\n\u001b[1;32m    242\u001b[0m \u001b[0md\u001b[0m\u001b[0;34m[\u001b[0m\u001b[0mdict\u001b[0m\u001b[0;34m]\u001b[0m \u001b[0;34m=\u001b[0m \u001b[0m_deepcopy_dict\u001b[0m\u001b[0;34m\u001b[0m\u001b[0;34m\u001b[0m\u001b[0m\n",
      "\u001b[0;32m~/anaconda3/envs/ML/lib/python3.7/copy.py\u001b[0m in \u001b[0;36mdeepcopy\u001b[0;34m(x, memo, _nil)\u001b[0m\n\u001b[1;32m    140\u001b[0m \u001b[0;34m\u001b[0m\u001b[0m\n\u001b[1;32m    141\u001b[0m     \u001b[0md\u001b[0m \u001b[0;34m=\u001b[0m \u001b[0mid\u001b[0m\u001b[0;34m(\u001b[0m\u001b[0mx\u001b[0m\u001b[0;34m)\u001b[0m\u001b[0;34m\u001b[0m\u001b[0;34m\u001b[0m\u001b[0m\n\u001b[0;32m--> 142\u001b[0;31m     \u001b[0my\u001b[0m \u001b[0;34m=\u001b[0m \u001b[0mmemo\u001b[0m\u001b[0;34m.\u001b[0m\u001b[0mget\u001b[0m\u001b[0;34m(\u001b[0m\u001b[0md\u001b[0m\u001b[0;34m,\u001b[0m \u001b[0m_nil\u001b[0m\u001b[0;34m)\u001b[0m\u001b[0;34m\u001b[0m\u001b[0;34m\u001b[0m\u001b[0m\n\u001b[0m\u001b[1;32m    143\u001b[0m     \u001b[0;32mif\u001b[0m \u001b[0my\u001b[0m \u001b[0;32mis\u001b[0m \u001b[0;32mnot\u001b[0m \u001b[0m_nil\u001b[0m\u001b[0;34m:\u001b[0m\u001b[0;34m\u001b[0m\u001b[0;34m\u001b[0m\u001b[0m\n\u001b[1;32m    144\u001b[0m         \u001b[0;32mreturn\u001b[0m \u001b[0my\u001b[0m\u001b[0;34m\u001b[0m\u001b[0;34m\u001b[0m\u001b[0m\n",
      "\u001b[0;31mKeyboardInterrupt\u001b[0m: "
     ]
    }
   ],
   "source": [
    "lurker_alex_places.compute_top_imgs()"
   ]
  },
  {
   "cell_type": "code",
   "execution_count": 22,
   "metadata": {},
   "outputs": [
    {
     "name": "stdout",
     "output_type": "stream",
     "text": [
      "Filter 1 / 2\n",
      "Vis saved!\n",
      "json saving done!\n",
      "Filter 2 / 2\n",
      "Vis saved!\n",
      "json saving done!\n",
      "Visualization done!\n",
      "json saving done!\n"
     ]
    }
   ],
   "source": [
    "lurker_alex_places.compute_layer_viz(layer_indx = 0,filter_indexes=[1,3])"
   ]
  },
  {
   "cell_type": "code",
   "execution_count": 23,
   "metadata": {},
   "outputs": [
    {
     "name": "stdout",
     "output_type": "stream",
     "text": [
      "Grads Progression:layer1/1 100.0%\n"
     ]
    }
   ],
   "source": [
    "lurker_alex_places.compute_grads()"
   ]
  },
  {
   "cell_type": "markdown",
   "metadata": {},
   "source": [
    "# Cifar10"
   ]
  },
  {
   "cell_type": "code",
   "execution_count": 143,
   "metadata": {},
   "outputs": [
    {
     "name": "stdout",
     "output_type": "stream",
     "text": [
      "Files already downloaded and verified\n"
     ]
    }
   ],
   "source": [
    "#download the big dataset\n",
    "cifar_dataset = torchvision.datasets.CIFAR10(\"./bigdata/CIFAR10_dataset\", train=True, transform=None, target_transform=None, download=True)"
   ]
  },
  {
   "cell_type": "code",
   "execution_count": 144,
   "metadata": {},
   "outputs": [
    {
     "name": "stdout",
     "output_type": "stream",
     "text": [
      "Progression:100.00 %\n"
     ]
    }
   ],
   "source": [
    "# takes ~ 5min\n",
    "#convert_to_jpg_dirs(cifar_dataset,\"./bigdata/CIFAR10\")"
   ]
  },
  {
   "cell_type": "code",
   "execution_count": 181,
   "metadata": {},
   "outputs": [
    {
     "name": "stdout",
     "output_type": "stream",
     "text": [
      "Progression:90.00%\n",
      "Sampling terminated.\n"
     ]
    }
   ],
   "source": [
    "sample_imagefolder(\"./bigdata/CIFAR10/\",\"./data/CIFAR10/images\",num_dir=10,img_num_per_dir=10)"
   ]
  },
  {
   "cell_type": "code",
   "execution_count": 182,
   "metadata": {},
   "outputs": [],
   "source": [
    "create_labels(cifar_dataset.class_to_idx,\"./data/CIFAR10/labels_cifar.txt\")"
   ]
  },
  {
   "cell_type": "code",
   "execution_count": 183,
   "metadata": {},
   "outputs": [],
   "source": [
    "preprocess_cif = transforms.Compose(\n",
    "    [transforms.ToTensor(),\n",
    "     transforms.Normalize((0.5, 0.5, 0.5), (0.5, 0.5, 0.5))])\n",
    "model_cif = vgg.vgg11_bn(pretrained=True)"
   ]
  },
  {
   "cell_type": "code",
   "execution_count": 184,
   "metadata": {},
   "outputs": [],
   "source": [
    "lurker_cif = Lurk(model_cif,\n",
    "                  preprocess_cif,\n",
    "                  save_gen_imgs_dir='./results/cifar/',\n",
    "                  save_json_path='./saved_model/cifar.json',\n",
    "                  imgs_src_dir=\"./data/CIFAR10/images/\",\n",
    "                  side_size=32)"
   ]
  },
  {
   "cell_type": "code",
   "execution_count": 189,
   "metadata": {},
   "outputs": [],
   "source": [
    "lurker_cif.compute_top_imgs()\n",
    "\n",
    "lurker_cif.plot_hist(0,0,\"max\")\n",
    "\n",
    "lurker_cif.compute_layer_viz(layer_indx = 0,filter_indexes=[6,7])\n",
    "\n",
    "lurker_cif.compute_grads()"
   ]
  }
 ],
 "metadata": {
  "kernelspec": {
   "display_name": "Python [conda env:ML] *",
   "language": "python",
   "name": "conda-env-ML-py"
  },
  "language_info": {
   "codemirror_mode": {
    "name": "ipython",
    "version": 3
   },
   "file_extension": ".py",
   "mimetype": "text/x-python",
   "name": "python",
   "nbconvert_exporter": "python",
   "pygments_lexer": "ipython3",
   "version": "3.7.4"
  }
 },
 "nbformat": 4,
 "nbformat_minor": 4
}
